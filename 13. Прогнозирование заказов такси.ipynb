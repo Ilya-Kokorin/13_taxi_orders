{
 "cells": [
  {
   "cell_type": "markdown",
   "metadata": {},
   "source": [
    "#  Прогнозирование заказов такси"
   ]
  },
  {
   "cell_type": "markdown",
   "metadata": {},
   "source": [
    "Такси-компания собрала исторические данные о заказах такси в аэропортах. Чтобы привлекать больше водителей в период пиковой нагрузки, нужно спрогнозировать количество заказов такси на следующий час. Необходимо построить модель для такого предсказания.\n",
    "\n",
    "Значение метрики *RMSE* на тестовой выборке должно быть не больше 48.\n",
    "\n",
    "Для этого нужно:\n",
    "\n",
    "1. Загрузить данные и выполнить их ресемплирование по одному часу.\n",
    "2. Проанализировать данные.\n",
    "3. Обучить разные модели с различными гиперпараметрами. Сделать тестовую выборку размером 10% от исходных данных.\n",
    "4. Проверить данные на тестовой выборке и сделать выводы."
   ]
  },
  {
   "cell_type": "code",
   "execution_count": 1,
   "metadata": {},
   "outputs": [],
   "source": [
    "import pandas as pd\n",
    "import matplotlib.pyplot as plt\n",
    "import numpy as np\n",
    "import seaborn as sns\n",
    "%matplotlib inline\n",
    "\n",
    "from statsmodels.tsa.seasonal import seasonal_decompose\n",
    "from sklearn.model_selection import train_test_split, TimeSeriesSplit, cross_val_score, GridSearchCV\n",
    "from sklearn.preprocessing import StandardScaler\n",
    "from sklearn.linear_model import LinearRegression\n",
    "from sklearn.metrics import mean_squared_error, make_scorer\n",
    "from lightgbm import LGBMRegressor\n",
    "from sklearn.compose import ColumnTransformer"
   ]
  },
  {
   "cell_type": "markdown",
   "metadata": {},
   "source": [
    "## Подготовка"
   ]
  },
  {
   "cell_type": "code",
   "execution_count": 2,
   "metadata": {},
   "outputs": [
    {
     "data": {
      "text/html": [
       "<div>\n",
       "<style scoped>\n",
       "    .dataframe tbody tr th:only-of-type {\n",
       "        vertical-align: middle;\n",
       "    }\n",
       "\n",
       "    .dataframe tbody tr th {\n",
       "        vertical-align: top;\n",
       "    }\n",
       "\n",
       "    .dataframe thead th {\n",
       "        text-align: right;\n",
       "    }\n",
       "</style>\n",
       "<table border=\"1\" class=\"dataframe\">\n",
       "  <thead>\n",
       "    <tr style=\"text-align: right;\">\n",
       "      <th></th>\n",
       "      <th>num_orders</th>\n",
       "    </tr>\n",
       "    <tr>\n",
       "      <th>datetime</th>\n",
       "      <th></th>\n",
       "    </tr>\n",
       "  </thead>\n",
       "  <tbody>\n",
       "    <tr>\n",
       "      <th>2018-03-01 00:00:00</th>\n",
       "      <td>124</td>\n",
       "    </tr>\n",
       "    <tr>\n",
       "      <th>2018-03-01 01:00:00</th>\n",
       "      <td>85</td>\n",
       "    </tr>\n",
       "    <tr>\n",
       "      <th>2018-03-01 02:00:00</th>\n",
       "      <td>71</td>\n",
       "    </tr>\n",
       "    <tr>\n",
       "      <th>2018-03-01 03:00:00</th>\n",
       "      <td>66</td>\n",
       "    </tr>\n",
       "    <tr>\n",
       "      <th>2018-03-01 04:00:00</th>\n",
       "      <td>43</td>\n",
       "    </tr>\n",
       "    <tr>\n",
       "      <th>...</th>\n",
       "      <td>...</td>\n",
       "    </tr>\n",
       "    <tr>\n",
       "      <th>2018-08-31 19:00:00</th>\n",
       "      <td>136</td>\n",
       "    </tr>\n",
       "    <tr>\n",
       "      <th>2018-08-31 20:00:00</th>\n",
       "      <td>154</td>\n",
       "    </tr>\n",
       "    <tr>\n",
       "      <th>2018-08-31 21:00:00</th>\n",
       "      <td>159</td>\n",
       "    </tr>\n",
       "    <tr>\n",
       "      <th>2018-08-31 22:00:00</th>\n",
       "      <td>223</td>\n",
       "    </tr>\n",
       "    <tr>\n",
       "      <th>2018-08-31 23:00:00</th>\n",
       "      <td>205</td>\n",
       "    </tr>\n",
       "  </tbody>\n",
       "</table>\n",
       "<p>4416 rows × 1 columns</p>\n",
       "</div>"
      ],
      "text/plain": [
       "                     num_orders\n",
       "datetime                       \n",
       "2018-03-01 00:00:00         124\n",
       "2018-03-01 01:00:00          85\n",
       "2018-03-01 02:00:00          71\n",
       "2018-03-01 03:00:00          66\n",
       "2018-03-01 04:00:00          43\n",
       "...                         ...\n",
       "2018-08-31 19:00:00         136\n",
       "2018-08-31 20:00:00         154\n",
       "2018-08-31 21:00:00         159\n",
       "2018-08-31 22:00:00         223\n",
       "2018-08-31 23:00:00         205\n",
       "\n",
       "[4416 rows x 1 columns]"
      ]
     },
     "execution_count": 2,
     "metadata": {},
     "output_type": "execute_result"
    }
   ],
   "source": [
    "data = pd.read_csv('/datasets/taxi.csv', index_col=[0], parse_dates=[0])\n",
    "data.sort_index(inplace=True)\n",
    "data = data.resample('1H').sum()\n",
    "data"
   ]
  },
  {
   "cell_type": "code",
   "execution_count": 3,
   "metadata": {},
   "outputs": [],
   "source": [
    "def about_df(list_df):\n",
    "    '''выводит информацию о всех датасетах из списка list_df'''\n",
    "    for c, i in enumerate(list_df):\n",
    "        print(\"**** DATASET_\"+str(c+1)+' ****')\n",
    "        display(i.info())\n",
    "        display(i.describe().round(2))\n",
    "        print(f'Количество дубликатов: {i.duplicated().sum()}')\n",
    "        print('Количество пропущенных значений:', i.isnull().sum(), sep='\\n')\n",
    "        print()"
   ]
  },
  {
   "cell_type": "code",
   "execution_count": 4,
   "metadata": {},
   "outputs": [
    {
     "name": "stdout",
     "output_type": "stream",
     "text": [
      "**** DATASET_1 ****\n",
      "<class 'pandas.core.frame.DataFrame'>\n",
      "DatetimeIndex: 4416 entries, 2018-03-01 00:00:00 to 2018-08-31 23:00:00\n",
      "Freq: H\n",
      "Data columns (total 1 columns):\n",
      " #   Column      Non-Null Count  Dtype\n",
      "---  ------      --------------  -----\n",
      " 0   num_orders  4416 non-null   int64\n",
      "dtypes: int64(1)\n",
      "memory usage: 69.0 KB\n"
     ]
    },
    {
     "data": {
      "text/plain": [
       "None"
      ]
     },
     "metadata": {},
     "output_type": "display_data"
    },
    {
     "data": {
      "text/html": [
       "<div>\n",
       "<style scoped>\n",
       "    .dataframe tbody tr th:only-of-type {\n",
       "        vertical-align: middle;\n",
       "    }\n",
       "\n",
       "    .dataframe tbody tr th {\n",
       "        vertical-align: top;\n",
       "    }\n",
       "\n",
       "    .dataframe thead th {\n",
       "        text-align: right;\n",
       "    }\n",
       "</style>\n",
       "<table border=\"1\" class=\"dataframe\">\n",
       "  <thead>\n",
       "    <tr style=\"text-align: right;\">\n",
       "      <th></th>\n",
       "      <th>num_orders</th>\n",
       "    </tr>\n",
       "  </thead>\n",
       "  <tbody>\n",
       "    <tr>\n",
       "      <th>count</th>\n",
       "      <td>4416.00</td>\n",
       "    </tr>\n",
       "    <tr>\n",
       "      <th>mean</th>\n",
       "      <td>84.42</td>\n",
       "    </tr>\n",
       "    <tr>\n",
       "      <th>std</th>\n",
       "      <td>45.02</td>\n",
       "    </tr>\n",
       "    <tr>\n",
       "      <th>min</th>\n",
       "      <td>0.00</td>\n",
       "    </tr>\n",
       "    <tr>\n",
       "      <th>25%</th>\n",
       "      <td>54.00</td>\n",
       "    </tr>\n",
       "    <tr>\n",
       "      <th>50%</th>\n",
       "      <td>78.00</td>\n",
       "    </tr>\n",
       "    <tr>\n",
       "      <th>75%</th>\n",
       "      <td>107.00</td>\n",
       "    </tr>\n",
       "    <tr>\n",
       "      <th>max</th>\n",
       "      <td>462.00</td>\n",
       "    </tr>\n",
       "  </tbody>\n",
       "</table>\n",
       "</div>"
      ],
      "text/plain": [
       "       num_orders\n",
       "count     4416.00\n",
       "mean        84.42\n",
       "std         45.02\n",
       "min          0.00\n",
       "25%         54.00\n",
       "50%         78.00\n",
       "75%        107.00\n",
       "max        462.00"
      ]
     },
     "metadata": {},
     "output_type": "display_data"
    },
    {
     "name": "stdout",
     "output_type": "stream",
     "text": [
      "Количество дубликатов: 4165\n",
      "Количество пропущенных значений:\n",
      "num_orders    0\n",
      "dtype: int64\n",
      "\n"
     ]
    }
   ],
   "source": [
    "about_df([data])"
   ]
  },
  {
   "cell_type": "markdown",
   "metadata": {},
   "source": [
    "**Вывод**\n",
    "<br>Данные, разбитые на часовые промежутки содержат информацию с 1 марта по 31 августа 2018 года. Имеются аномально высокое значение - 462 заказа за час. Пропуски отсутствуют."
   ]
  },
  {
   "cell_type": "markdown",
   "metadata": {},
   "source": [
    "## Анализ данных"
   ]
  },
  {
   "cell_type": "code",
   "execution_count": 5,
   "metadata": {},
   "outputs": [],
   "source": [
    "temp = data.copy()"
   ]
  },
  {
   "cell_type": "code",
   "execution_count": 6,
   "metadata": {},
   "outputs": [
    {
     "data": {
      "image/png": "[encoded data removed]",
      "text/plain": [
       "<Figure size 720x504 with 1 Axes>"
      ]
     },
     "metadata": {
      "needs_background": "light"
     },
     "output_type": "display_data"
    }
   ],
   "source": [
    "# посмотрим на распределение заказов за указанный период\n",
    "temp['rolling_mean'] = data.rolling(100).mean()\n",
    "temp.plot(\n",
    "    title='Распределение количества заказов',\n",
    "    xlabel='Дата',\n",
    "    ylabel='Количество заказов',\n",
    "    figsize=(10, 7));"
   ]
  },
  {
   "cell_type": "markdown",
   "metadata": {},
   "source": [
    "Видно, что в августе тренд на увеличение заказов немного усиливается по сравнению с другими месяцами."
   ]
  },
  {
   "cell_type": "code",
   "execution_count": 7,
   "metadata": {},
   "outputs": [
    {
     "data": {
      "image/png": "[encoded data removed]",
      "text/plain": [
       "<Figure size 720x360 with 1 Axes>"
      ]
     },
     "metadata": {
      "needs_background": "light"
     },
     "output_type": "display_data"
    }
   ],
   "source": [
    "# посмотрим на количество заказов по дням недели в первый месяц заказов\n",
    "temp = data['2018-03':'2018-04'].resample('1D').sum()\n",
    "\n",
    "decomposed = seasonal_decompose(temp['num_orders'])\n",
    "\n",
    "ax = plt.gca()\n",
    "ax.grid(True, which='both')\n",
    "\n",
    "decomposed.seasonal['2018-03-01':'2018-03-31'].plot(figsize=(10, 5),\n",
    "                                                    title='Сезонность заказов в марте',\n",
    "                                                    ax=ax);"
   ]
  },
  {
   "cell_type": "markdown",
   "metadata": {},
   "source": [
    "Видно, что по вторникам и воскресеньям такси заказывают реже, а по пятницам и понедельникам чаще."
   ]
  },
  {
   "cell_type": "code",
   "execution_count": 8,
   "metadata": {},
   "outputs": [
    {
     "data": {
      "image/png": "[encoded data removed]",
      "text/plain": [
       "<Figure size 720x360 with 1 Axes>"
      ]
     },
     "metadata": {
      "needs_background": "light"
     },
     "output_type": "display_data"
    }
   ],
   "source": [
    "# посмотрим на количество заказов по дням недели в последний месяц заказов\n",
    "temp = data['2018-08':'2018-08'].resample('1D').sum()\n",
    "\n",
    "decomposed = seasonal_decompose(temp['num_orders'])\n",
    "\n",
    "ax = plt.gca()\n",
    "ax.grid(True, which='both')\n",
    "\n",
    "decomposed.seasonal['2018-08-01':'2018-08-31'].plot(figsize=(10, 5), \n",
    "                                                    title='Сезонность заказов в августе',\n",
    "                                                    ax=ax);"
   ]
  },
  {
   "cell_type": "markdown",
   "metadata": {},
   "source": [
    "В отличии от марта, в августе уменьшились случаи заказа такси по пятницам. В воскресенье и вторник такси также заказывают реже всего"
   ]
  },
  {
   "cell_type": "code",
   "execution_count": 9,
   "metadata": {},
   "outputs": [
    {
     "data": {
      "image/png": "[encoded data removed]",
      "text/plain": [
       "<Figure size 720x504 with 1 Axes>"
      ]
     },
     "metadata": {
      "needs_background": "light"
     },
     "output_type": "display_data"
    }
   ],
   "source": [
    "temp = data - data.shift()\n",
    "temp['mean'] = temp['num_orders'].rolling(100).mean()\n",
    "temp['std'] = temp['num_orders'].rolling(100).std()\n",
    "\n",
    "temp.plot(figsize=(10, 7),\n",
    "         title='График разности временного ряда');"
   ]
  },
  {
   "cell_type": "markdown",
   "metadata": {},
   "source": [
    "График разности временного ряда также говорит о наличии линейности в данных и о наличии больших отклонений по заказам в сутки в августе."
   ]
  },
  {
   "cell_type": "markdown",
   "metadata": {},
   "source": [
    "**Вывод**\n",
    "<br> В августе тренд на увеличение заказов немного усиливается по сравнению с другими месяцами. По вторникам и воскресеньям в марте такси заказывали реже, а по пятницам и понедельникам чаще.В отличии от марта, в августе уменьшились случаи заказа такси по пятницам. В воскресенье и вторник такси также заказывают реже всего.График разности временного ряда также говорит о наличии линейности в данных и о наличии больших отклонений по заказам в сутки в августе."
   ]
  },
  {
   "cell_type": "code",
   "execution_count": 10,
   "metadata": {},
   "outputs": [
    {
     "data": {
      "image/png": "[encoded data removed]",
      "text/plain": [
       "<Figure size 720x1080 with 3 Axes>"
      ]
     },
     "metadata": {
      "needs_background": "light"
     },
     "output_type": "display_data"
    }
   ],
   "source": [
    "decomposed = seasonal_decompose(data)\n",
    "\n",
    "plt.figure(figsize=(10, 15))\n",
    "plt.subplot(311)\n",
    "\n",
    "decomposed.trend.plot(ax=plt.gca())\n",
    "plt.title('Тренд')\n",
    "plt.subplot(312)\n",
    "decomposed.seasonal.plot(ax=plt.gca())\n",
    "plt.title('Сезонность')\n",
    "plt.subplot(313)\n",
    "decomposed.resid.plot(ax=plt.gca())\n",
    "plt.title('Остатки')\n",
    "plt.tight_layout()"
   ]
  },
  {
   "cell_type": "code",
   "execution_count": 11,
   "metadata": {},
   "outputs": [
    {
     "data": {
      "image/png": "[encoded data removed]",
      "text/plain": [
       "<Figure size 720x360 with 1 Axes>"
      ]
     },
     "metadata": {
      "needs_background": "light"
     },
     "output_type": "display_data"
    }
   ],
   "source": [
    "decomposed.seasonal['2018-08-24':'2018-08-31'].plot(figsize=(10, 5), \n",
    "                                                    title='Сезонность заказов в первую неделю августа');"
   ]
  },
  {
   "cell_type": "markdown",
   "metadata": {},
   "source": [
    "## Подготовка данных"
   ]
  },
  {
   "cell_type": "code",
   "execution_count": 12,
   "metadata": {},
   "outputs": [],
   "source": [
    "def make_features(data, max_lag, rolling_mean_size):\n",
    "    \n",
    "    '''Функция для создания датафрейма с добавлением новых признаков'''\n",
    "    \n",
    "    global data_feat\n",
    "    data_feat = data.copy()\n",
    "    \n",
    "    data_feat['month'] = data_feat.index.month\n",
    "    data_feat['day'] = data_feat.index.day\n",
    "    data_feat['dayofweek'] = data_feat.index.dayofweek\n",
    "\n",
    "    for lag in range(1, max_lag + 1):\n",
    "        data_feat['lag_{}'.format(lag)] = data_feat['num_orders'].shift(lag)\n",
    "\n",
    "    data_feat['rolling_mean'] = data_feat['num_orders'].shift().rolling(rolling_mean_size).mean()"
   ]
  },
  {
   "cell_type": "code",
   "execution_count": 13,
   "metadata": {},
   "outputs": [],
   "source": [
    "make_features(data, 30, 100) # примем максимальный сдвиг на 30 дней"
   ]
  },
  {
   "cell_type": "code",
   "execution_count": 14,
   "metadata": {},
   "outputs": [
    {
     "data": {
      "text/html": [
       "<div>\n",
       "<style scoped>\n",
       "    .dataframe tbody tr th:only-of-type {\n",
       "        vertical-align: middle;\n",
       "    }\n",
       "\n",
       "    .dataframe tbody tr th {\n",
       "        vertical-align: top;\n",
       "    }\n",
       "\n",
       "    .dataframe thead th {\n",
       "        text-align: right;\n",
       "    }\n",
       "</style>\n",
       "<table border=\"1\" class=\"dataframe\">\n",
       "  <thead>\n",
       "    <tr style=\"text-align: right;\">\n",
       "      <th></th>\n",
       "      <th>num_orders</th>\n",
       "      <th>month</th>\n",
       "      <th>day</th>\n",
       "      <th>dayofweek</th>\n",
       "      <th>lag_1</th>\n",
       "      <th>lag_2</th>\n",
       "      <th>lag_3</th>\n",
       "      <th>lag_4</th>\n",
       "      <th>lag_5</th>\n",
       "      <th>lag_6</th>\n",
       "      <th>...</th>\n",
       "      <th>lag_22</th>\n",
       "      <th>lag_23</th>\n",
       "      <th>lag_24</th>\n",
       "      <th>lag_25</th>\n",
       "      <th>lag_26</th>\n",
       "      <th>lag_27</th>\n",
       "      <th>lag_28</th>\n",
       "      <th>lag_29</th>\n",
       "      <th>lag_30</th>\n",
       "      <th>rolling_mean</th>\n",
       "    </tr>\n",
       "    <tr>\n",
       "      <th>datetime</th>\n",
       "      <th></th>\n",
       "      <th></th>\n",
       "      <th></th>\n",
       "      <th></th>\n",
       "      <th></th>\n",
       "      <th></th>\n",
       "      <th></th>\n",
       "      <th></th>\n",
       "      <th></th>\n",
       "      <th></th>\n",
       "      <th></th>\n",
       "      <th></th>\n",
       "      <th></th>\n",
       "      <th></th>\n",
       "      <th></th>\n",
       "      <th></th>\n",
       "      <th></th>\n",
       "      <th></th>\n",
       "      <th></th>\n",
       "      <th></th>\n",
       "      <th></th>\n",
       "    </tr>\n",
       "  </thead>\n",
       "  <tbody>\n",
       "    <tr>\n",
       "      <th>2018-03-01 00:00:00</th>\n",
       "      <td>124</td>\n",
       "      <td>3</td>\n",
       "      <td>1</td>\n",
       "      <td>3</td>\n",
       "      <td>NaN</td>\n",
       "      <td>NaN</td>\n",
       "      <td>NaN</td>\n",
       "      <td>NaN</td>\n",
       "      <td>NaN</td>\n",
       "      <td>NaN</td>\n",
       "      <td>...</td>\n",
       "      <td>NaN</td>\n",
       "      <td>NaN</td>\n",
       "      <td>NaN</td>\n",
       "      <td>NaN</td>\n",
       "      <td>NaN</td>\n",
       "      <td>NaN</td>\n",
       "      <td>NaN</td>\n",
       "      <td>NaN</td>\n",
       "      <td>NaN</td>\n",
       "      <td>NaN</td>\n",
       "    </tr>\n",
       "    <tr>\n",
       "      <th>2018-03-01 01:00:00</th>\n",
       "      <td>85</td>\n",
       "      <td>3</td>\n",
       "      <td>1</td>\n",
       "      <td>3</td>\n",
       "      <td>124.0</td>\n",
       "      <td>NaN</td>\n",
       "      <td>NaN</td>\n",
       "      <td>NaN</td>\n",
       "      <td>NaN</td>\n",
       "      <td>NaN</td>\n",
       "      <td>...</td>\n",
       "      <td>NaN</td>\n",
       "      <td>NaN</td>\n",
       "      <td>NaN</td>\n",
       "      <td>NaN</td>\n",
       "      <td>NaN</td>\n",
       "      <td>NaN</td>\n",
       "      <td>NaN</td>\n",
       "      <td>NaN</td>\n",
       "      <td>NaN</td>\n",
       "      <td>NaN</td>\n",
       "    </tr>\n",
       "  </tbody>\n",
       "</table>\n",
       "<p>2 rows × 35 columns</p>\n",
       "</div>"
      ],
      "text/plain": [
       "                     num_orders  month  day  dayofweek  lag_1  lag_2  lag_3  \\\n",
       "datetime                                                                      \n",
       "2018-03-01 00:00:00         124      3    1          3    NaN    NaN    NaN   \n",
       "2018-03-01 01:00:00          85      3    1          3  124.0    NaN    NaN   \n",
       "\n",
       "                     lag_4  lag_5  lag_6  ...  lag_22  lag_23  lag_24  lag_25  \\\n",
       "datetime                                  ...                                   \n",
       "2018-03-01 00:00:00    NaN    NaN    NaN  ...     NaN     NaN     NaN     NaN   \n",
       "2018-03-01 01:00:00    NaN    NaN    NaN  ...     NaN     NaN     NaN     NaN   \n",
       "\n",
       "                     lag_26  lag_27  lag_28  lag_29  lag_30  rolling_mean  \n",
       "datetime                                                                   \n",
       "2018-03-01 00:00:00     NaN     NaN     NaN     NaN     NaN           NaN  \n",
       "2018-03-01 01:00:00     NaN     NaN     NaN     NaN     NaN           NaN  \n",
       "\n",
       "[2 rows x 35 columns]"
      ]
     },
     "execution_count": 14,
     "metadata": {},
     "output_type": "execute_result"
    }
   ],
   "source": [
    "data_feat.head(2)"
   ]
  },
  {
   "cell_type": "code",
   "execution_count": 15,
   "metadata": {},
   "outputs": [
    {
     "name": "stdout",
     "output_type": "stream",
     "text": [
      "train size: (3884, 34)  test size: (432, 34)\n"
     ]
    }
   ],
   "source": [
    "# деление на выборки\n",
    "data_feat = data_feat.dropna()\n",
    "X_train, X_test, y_train, y_test = train_test_split(data_feat.drop('num_orders', axis=1),\n",
    "                                                    data_feat['num_orders'], \n",
    "                                                    test_size=0.1, \n",
    "                                                    shuffle=False)\n",
    "\n",
    "\n",
    "print('train size:', X_train.shape, ' test size:', X_test.shape)"
   ]
  },
  {
   "cell_type": "code",
   "execution_count": 16,
   "metadata": {},
   "outputs": [],
   "source": [
    "# масштабирование данных (категориальных колонок нет)\n",
    "num_columns = X_train.columns.to_list()\n",
    "data_prep = ColumnTransformer([('num', StandardScaler(), num_columns)], remainder='passthrough')\n",
    "\n",
    "X_train_prep = pd.DataFrame(data=data_prep.fit_transform(X_train),\n",
    "                            columns=num_columns)\n",
    "X_test_prep = pd.DataFrame(data=data_prep.transform(X_test),\n",
    "                           columns=num_columns)"
   ]
  },
  {
   "cell_type": "markdown",
   "metadata": {},
   "source": [
    "**Вывод**\n",
    "<br>Данные разделены на выборки и масштабированы."
   ]
  },
  {
   "cell_type": "markdown",
   "metadata": {},
   "source": [
    "## Обучение моделей"
   ]
  },
  {
   "cell_type": "markdown",
   "metadata": {},
   "source": [
    "Поскольку привычная кросс-валидация не подходит для временных рядов, будем использовать TimeSeriesSplit. \n",
    "<br>Это специализированный метод перекрёстной проверки для данных временных рядов в библиотеке scikit-learn. Он сохраняет временной порядок наблюдений, гарантируя, что модель оценивается на основе прошлых данных и тестируется на будущих данных, имитируя реальные сценарии. "
   ]
  },
  {
   "cell_type": "code",
   "execution_count": 17,
   "metadata": {},
   "outputs": [],
   "source": [
    "def get_rmse(y, pred):\n",
    "    \n",
    "    '''Функция для расчета RMSE'''\n",
    "    \n",
    "    return (mean_squared_error(y, pred))**0.5\n",
    "\n",
    "# создадим метрику RMSE для кросс-валидации\n",
    "RMSE = make_scorer(get_rmse, greater_is_better=False)"
   ]
  },
  {
   "cell_type": "markdown",
   "metadata": {},
   "source": [
    "**Линейная регрессия:**"
   ]
  },
  {
   "cell_type": "code",
   "execution_count": 18,
   "metadata": {},
   "outputs": [
    {
     "data": {
      "text/plain": [
       "LinearRegression()"
      ]
     },
     "execution_count": 18,
     "metadata": {},
     "output_type": "execute_result"
    }
   ],
   "source": [
    "time_cv = TimeSeriesSplit(n_splits=5).split(X_train_prep)\n",
    "\n",
    "linear_model = LinearRegression()\n",
    "linear_model.fit(X_train_prep, y_train)"
   ]
  },
  {
   "cell_type": "code",
   "execution_count": 19,
   "metadata": {},
   "outputs": [
    {
     "name": "stdout",
     "output_type": "stream",
     "text": [
      "RMSE линейной регрессии: 26.84225581385784\n",
      "\n",
      "CPU times: user 441 ms, sys: 439 ms, total: 880 ms\n",
      "Wall time: 901 ms\n"
     ]
    }
   ],
   "source": [
    "%%time\n",
    "\n",
    "model_score = cross_val_score(\n",
    "    linear_model,\n",
    "    X_train_prep,\n",
    "    y_train,\n",
    "    cv=time_cv,\n",
    "    scoring=RMSE)\n",
    "\n",
    "print('RMSE линейной регрессии:', -model_score.mean())\n",
    "print()"
   ]
  },
  {
   "cell_type": "markdown",
   "metadata": {},
   "source": [
    "**LGBMRegressor:**"
   ]
  },
  {
   "cell_type": "code",
   "execution_count": 20,
   "metadata": {},
   "outputs": [
    {
     "data": {
      "text/plain": [
       "LGBMRegressor()"
      ]
     },
     "execution_count": 20,
     "metadata": {},
     "output_type": "execute_result"
    }
   ],
   "source": [
    "time_cv = TimeSeriesSplit(n_splits=5).split(X_train_prep)\n",
    "\n",
    "model_lgbm = LGBMRegressor()\n",
    "model_lgbm.fit(X_train_prep, y_train)"
   ]
  },
  {
   "cell_type": "code",
   "execution_count": 21,
   "metadata": {},
   "outputs": [],
   "source": [
    "# Список параметров модели для сравнения\n",
    "params = {\n",
    "    'n_estimators': [1000, 1500],\n",
    "    'max_depth': [1, 10, 15]\n",
    "}"
   ]
  },
  {
   "cell_type": "code",
   "execution_count": 22,
   "metadata": {},
   "outputs": [],
   "source": [
    "best_model = GridSearchCV(\n",
    "    model_lgbm, \n",
    "    params, \n",
    "    cv=time_cv,\n",
    "    scoring=RMSE,\n",
    "    n_jobs=-1)"
   ]
  },
  {
   "cell_type": "code",
   "execution_count": 23,
   "metadata": {},
   "outputs": [
    {
     "name": "stdout",
     "output_type": "stream",
     "text": [
      "\n",
      "CPU times: user 4min 30s, sys: 2.97 s, total: 4min 33s\n",
      "Wall time: 4min 37s\n"
     ]
    }
   ],
   "source": [
    "%%time\n",
    "\n",
    "best_model.fit(X_train_prep, y_train)\n",
    "print()"
   ]
  },
  {
   "cell_type": "code",
   "execution_count": 24,
   "metadata": {},
   "outputs": [
    {
     "data": {
      "text/plain": [
       "{'max_depth': 10, 'n_estimators': 1000}"
      ]
     },
     "execution_count": 24,
     "metadata": {},
     "output_type": "execute_result"
    }
   ],
   "source": [
    "best_model.best_params_"
   ]
  },
  {
   "cell_type": "code",
   "execution_count": 25,
   "metadata": {},
   "outputs": [
    {
     "name": "stdout",
     "output_type": "stream",
     "text": [
      "RMSE лучшей модели на тренировочной выборке: 25.83030675642906\n"
     ]
    }
   ],
   "source": [
    "print('RMSE лучшей модели на тренировочной выборке:', -best_model.best_score_)"
   ]
  },
  {
   "cell_type": "markdown",
   "metadata": {},
   "source": [
    "**Вывод**\n",
    "<br> Из моделирования видно, что модель LGBMRegressor с параметрами: 'max_depth': 10, 'n_estimators': 1000 лучше прогнозирует данный ряд, чем линейная регрессия. Но данная модель оказалась значительно медленнее: примерно 45 секунд на 1 комбинацию гиперпараметров против 1 секунды для линейной регрессии."
   ]
  },
  {
   "cell_type": "markdown",
   "metadata": {},
   "source": [
    "## Тестирование"
   ]
  },
  {
   "cell_type": "code",
   "execution_count": 26,
   "metadata": {},
   "outputs": [],
   "source": [
    "# создадим датафрейм для сравнения предсказаний моделей\n",
    "all_preds = pd.DataFrame()\n",
    "all_preds['y_test'] = y_test"
   ]
  },
  {
   "cell_type": "code",
   "execution_count": 27,
   "metadata": {},
   "outputs": [],
   "source": [
    "def get_pred(model, name):\n",
    "    \n",
    "    '''Расчет RMSE и отрисовка графика таргета и предикта'''\n",
    "    \n",
    "    pred_test = model.predict(X_test_prep)\n",
    "    all_preds[name] = pred_test\n",
    "    model_rmse = get_rmse(y_test, pred_test)\n",
    "    print('RMSE модели:', round(model_rmse, 3))\n",
    "    \n",
    "    # график\n",
    "    model_data = pd.DataFrame({'target':y_test, \n",
    "                               'prediction':pred_test})\n",
    "    \n",
    "    model_data.plot(figsize=(12, 7), \n",
    "                    title='Сравнение таргета и предикта для {}'.format(name),\n",
    "                    xlabel='Дата',\n",
    "                    ylabel='Количество заказов')"
   ]
  },
  {
   "cell_type": "code",
   "execution_count": 28,
   "metadata": {},
   "outputs": [
    {
     "name": "stdout",
     "output_type": "stream",
     "text": [
      "RMSE модели: 46.286\n"
     ]
    },
    {
     "data": {
      "image/png": "[encoded data removed]",
      "text/plain": [
       "<Figure size 864x504 with 1 Axes>"
      ]
     },
     "metadata": {
      "needs_background": "light"
     },
     "output_type": "display_data"
    }
   ],
   "source": [
    "get_pred(linear_model, 'lin_model')"
   ]
  },
  {
   "cell_type": "code",
   "execution_count": 29,
   "metadata": {},
   "outputs": [
    {
     "name": "stdout",
     "output_type": "stream",
     "text": [
      "RMSE модели: 41.857\n"
     ]
    },
    {
     "data": {
      "image/png": "[encoded data removed]",
      "text/plain": [
       "<Figure size 864x504 with 1 Axes>"
      ]
     },
     "metadata": {
      "needs_background": "light"
     },
     "output_type": "display_data"
    }
   ],
   "source": [
    "get_pred(best_model, 'lgbm_model')"
   ]
  },
  {
   "cell_type": "markdown",
   "metadata": {},
   "source": [
    "Проверим, какая из моделей оказалась ближе к истине по отношению к каждому значению:"
   ]
  },
  {
   "cell_type": "code",
   "execution_count": 30,
   "metadata": {},
   "outputs": [
    {
     "data": {
      "image/png": "[encoded data removed]",
      "text/plain": [
       "<Figure size 432x288 with 1 Axes>"
      ]
     },
     "metadata": {},
     "output_type": "display_data"
    }
   ],
   "source": [
    "# колонка с указанием модели, которая оказалась ближе всех к истине\n",
    "all_preds['closer'] = np.where(\n",
    "    abs(all_preds['lin_model'] - all_preds['y_test']) < abs(all_preds['lgbm_model'] - all_preds['y_test']), \n",
    "    'lin_model', 'lgbm_model')\n",
    "\n",
    "# диаграмма\n",
    "temp = all_preds.pivot_table(index='closer', values='lin_model', aggfunc='count')\n",
    "plt.pie(temp['lin_model'], autopct='%.1f', labels=temp.index)\n",
    "plt.title('Количество ответов ближе к истинному, %');"
   ]
  },
  {
   "cell_type": "markdown",
   "metadata": {},
   "source": [
    "Посмотрим на важность признаков в модели LGBM:"
   ]
  },
  {
   "cell_type": "code",
   "execution_count": 31,
   "metadata": {},
   "outputs": [],
   "source": [
    "def feature_importanses(model):\n",
    "\n",
    "    '''Функция для вывода 5 самых важных признаков модели'''\n",
    "    \n",
    "    features = {'feature': X_train_prep.columns, 'weight': model.feature_importances_}\n",
    "    return pd.DataFrame(features).sort_values(by='weight', ascending=False).head(5)"
   ]
  },
  {
   "cell_type": "code",
   "execution_count": 32,
   "metadata": {},
   "outputs": [
    {
     "data": {
      "text/plain": [
       "LGBMRegressor(max_depth=10, n_estimators=1000)"
      ]
     },
     "execution_count": 32,
     "metadata": {},
     "output_type": "execute_result"
    }
   ],
   "source": [
    "model_lgbm = LGBMRegressor(n_estimators=1000, max_depth=10)\n",
    "model_lgbm.fit(X_train_prep, y_train)"
   ]
  },
  {
   "cell_type": "code",
   "execution_count": 33,
   "metadata": {},
   "outputs": [
    {
     "data": {
      "text/html": [
       "<div>\n",
       "<style scoped>\n",
       "    .dataframe tbody tr th:only-of-type {\n",
       "        vertical-align: middle;\n",
       "    }\n",
       "\n",
       "    .dataframe tbody tr th {\n",
       "        vertical-align: top;\n",
       "    }\n",
       "\n",
       "    .dataframe thead th {\n",
       "        text-align: right;\n",
       "    }\n",
       "</style>\n",
       "<table border=\"1\" class=\"dataframe\">\n",
       "  <thead>\n",
       "    <tr style=\"text-align: right;\">\n",
       "      <th></th>\n",
       "      <th>feature</th>\n",
       "      <th>weight</th>\n",
       "    </tr>\n",
       "  </thead>\n",
       "  <tbody>\n",
       "    <tr>\n",
       "      <th>3</th>\n",
       "      <td>lag_1</td>\n",
       "      <td>1404</td>\n",
       "    </tr>\n",
       "    <tr>\n",
       "      <th>33</th>\n",
       "      <td>rolling_mean</td>\n",
       "      <td>1232</td>\n",
       "    </tr>\n",
       "    <tr>\n",
       "      <th>5</th>\n",
       "      <td>lag_3</td>\n",
       "      <td>1058</td>\n",
       "    </tr>\n",
       "    <tr>\n",
       "      <th>26</th>\n",
       "      <td>lag_24</td>\n",
       "      <td>997</td>\n",
       "    </tr>\n",
       "    <tr>\n",
       "      <th>4</th>\n",
       "      <td>lag_2</td>\n",
       "      <td>943</td>\n",
       "    </tr>\n",
       "  </tbody>\n",
       "</table>\n",
       "</div>"
      ],
      "text/plain": [
       "         feature  weight\n",
       "3          lag_1    1404\n",
       "33  rolling_mean    1232\n",
       "5          lag_3    1058\n",
       "26        lag_24     997\n",
       "4          lag_2     943"
      ]
     },
     "execution_count": 33,
     "metadata": {},
     "output_type": "execute_result"
    }
   ],
   "source": [
    "feature_importanses(model_lgbm)"
   ]
  },
  {
   "cell_type": "markdown",
   "metadata": {},
   "source": [
    "**Вывод**\n",
    "<br>На тестовых данных данная модель показала значение метрики RMSE: 41.857, что ниже целевых 48. Стоит отметить, что линейная модель с метрикой 46.286 также уложилась в граничное значение. Проверка на количество более близких к истине значений показала, что LGBM оказывается ближе к истине в 53.5% случаев. Для данной модели наиболее важными признаками оказались: сдвиг на 1, 3, 24, 2 дня и скользящее среднее с окном = 100."
   ]
  },
  {
   "cell_type": "markdown",
   "metadata": {},
   "source": [
    "## Вывод"
   ]
  },
  {
   "cell_type": "markdown",
   "metadata": {},
   "source": [
    "Данные, разбитые на часовые промежутки содержат информацию с 1 марта по 31 августа 2018 года. Имеются аномально высокое значение - 462 заказа за час. Пропуски отсутствуют.\n",
    "\n",
    "\n",
    "В августе тренд на увеличение заказов немного усиливается по сравнению с другими месяцами. По вторникам и воскресеньям в марте такси заказывали реже, а по пятницам и понедельникам чаще.В отличии от марта, в августе уменьшились случаи заказа такси по пятницам. В воскресенье и вторник такси также заказывают реже всего.График разности временного ряда также говорит о наличии линейности в данных и о наличии больших отклонений по заказам в сутки в августе.\n",
    "\n",
    "\n",
    "Поскольку привычная кросс-валидация не подходит для временных рядов, использовался TimeSeriesSplit. Это специализированный метод перекрёстной проверки для данных временных рядов в библиотеке scikit-learn. Он сохраняет временной порядок наблюдений, гарантируя, что модель оценивается на основе прошлых данных и тестируется на будущих данных, имитируя реальные сценарии.\n",
    "\n",
    "\n",
    "Оказалось, что модель LGBMRegressor с параметрами: 'max_depth': 10, 'n_estimators': 1000 лучше прогнозирует данный ряд, чем обычная линейная регрессия. Но данная модель оказалась значительно медленнее: примерно 45 секунд на 1 комбинацию гиперпараметров против 1 секунды для линейной регрессии.\n",
    "<br>На тестовых данных данная модель показала значение метрики RMSE: 41.857, что ниже целевых 48. Стоит отметить, что линейная модель с метрикой 46.286 также уложилась в граничное значение. Проверка на количество более близких к истине значений показала, что LGBM оказывается ближе к истине в 53.5% случаев. Для данной модели наиболее важными признаками оказались: сдвиг на 1, 3, 24, 2 дня и скользящее среднее с окном = 100."
   ]
  },
  {
   "cell_type": "code",
   "execution_count": null,
   "metadata": {},
   "outputs": [],
   "source": []
  }
 ],
 "metadata": {
  "ExecuteTimeLog": [
   {
    "duration": 58,
    "start_time": "2025-04-15T05:05:26.322Z"
   },
   {
    "duration": 1270,
    "start_time": "2025-04-15T05:05:29.342Z"
   },
   {
    "duration": 38,
    "start_time": "2025-04-15T05:05:30.614Z"
   },
   {
    "duration": 49,
    "start_time": "2025-04-15T05:05:43.464Z"
   },
   {
    "duration": 42,
    "start_time": "2025-04-15T05:06:07.743Z"
   },
   {
    "duration": 47,
    "start_time": "2025-04-15T05:06:45.036Z"
   },
   {
    "duration": 5,
    "start_time": "2025-04-15T05:12:50.417Z"
   },
   {
    "duration": 26,
    "start_time": "2025-04-15T05:13:02.991Z"
   },
   {
    "duration": 8,
    "start_time": "2025-04-15T05:29:27.363Z"
   },
   {
    "duration": 61,
    "start_time": "2025-04-15T05:29:45.890Z"
   },
   {
    "duration": 474,
    "start_time": "2025-04-15T05:30:16.162Z"
   },
   {
    "duration": 36,
    "start_time": "2025-04-15T05:30:24.914Z"
   },
   {
    "duration": 4,
    "start_time": "2025-04-15T05:31:08.114Z"
   },
   {
    "duration": 226,
    "start_time": "2025-04-15T05:31:21.155Z"
   },
   {
    "duration": 243,
    "start_time": "2025-04-15T05:31:34.493Z"
   },
   {
    "duration": 301,
    "start_time": "2025-04-15T05:35:31.038Z"
   },
   {
    "duration": 224,
    "start_time": "2025-04-15T05:35:39.287Z"
   },
   {
    "duration": 323,
    "start_time": "2025-04-15T05:36:39.286Z"
   },
   {
    "duration": 44,
    "start_time": "2025-04-15T05:40:45.885Z"
   },
   {
    "duration": 16,
    "start_time": "2025-04-15T05:41:06.254Z"
   },
   {
    "duration": 3,
    "start_time": "2025-04-15T05:46:40.006Z"
   },
   {
    "duration": 10,
    "start_time": "2025-04-15T05:46:40.966Z"
   },
   {
    "duration": 290,
    "start_time": "2025-04-15T05:46:53.866Z"
   },
   {
    "duration": 9,
    "start_time": "2025-04-15T05:48:14.406Z"
   },
   {
    "duration": 790,
    "start_time": "2025-04-15T05:48:42.253Z"
   },
   {
    "duration": 533,
    "start_time": "2025-04-15T05:51:01.967Z"
   },
   {
    "duration": 208,
    "start_time": "2025-04-15T05:51:12.162Z"
   },
   {
    "duration": 23,
    "start_time": "2025-04-15T05:51:34.388Z"
   },
   {
    "duration": 489,
    "start_time": "2025-04-15T05:51:38.746Z"
   },
   {
    "duration": 593,
    "start_time": "2025-04-15T05:51:47.354Z"
   },
   {
    "duration": 483,
    "start_time": "2025-04-15T05:53:08.334Z"
   },
   {
    "duration": 230,
    "start_time": "2025-04-15T05:53:33.118Z"
   },
   {
    "duration": 259,
    "start_time": "2025-04-15T05:53:42.026Z"
   },
   {
    "duration": 7,
    "start_time": "2025-04-15T05:54:49.538Z"
   },
   {
    "duration": 6,
    "start_time": "2025-04-15T05:54:51.294Z"
   },
   {
    "duration": 257,
    "start_time": "2025-04-15T05:54:52.346Z"
   },
   {
    "duration": 9,
    "start_time": "2025-04-15T05:55:01.486Z"
   },
   {
    "duration": 15,
    "start_time": "2025-04-15T05:55:02.966Z"
   },
   {
    "duration": 6,
    "start_time": "2025-04-15T05:55:14.906Z"
   },
   {
    "duration": 12,
    "start_time": "2025-04-15T05:55:16.134Z"
   },
   {
    "duration": 215,
    "start_time": "2025-04-15T05:55:29.846Z"
   },
   {
    "duration": 10,
    "start_time": "2025-04-15T05:56:11.074Z"
   },
   {
    "duration": 7,
    "start_time": "2025-04-15T06:01:03.958Z"
   },
   {
    "duration": 11,
    "start_time": "2025-04-15T06:01:05.115Z"
   },
   {
    "duration": 27,
    "start_time": "2025-04-15T06:09:08.390Z"
   },
   {
    "duration": 1536,
    "start_time": "2025-04-15T06:09:24.412Z"
   },
   {
    "duration": 71,
    "start_time": "2025-04-15T06:09:25.950Z"
   },
   {
    "duration": 4,
    "start_time": "2025-04-15T06:09:26.023Z"
   },
   {
    "duration": 38,
    "start_time": "2025-04-15T06:09:26.029Z"
   },
   {
    "duration": 53,
    "start_time": "2025-04-15T06:09:26.069Z"
   },
   {
    "duration": 577,
    "start_time": "2025-04-15T06:09:26.124Z"
   },
   {
    "duration": 134,
    "start_time": "2025-04-15T06:09:26.704Z"
   },
   {
    "duration": 373,
    "start_time": "2025-04-15T06:10:13.976Z"
   },
   {
    "duration": 204,
    "start_time": "2025-04-15T06:10:37.896Z"
   },
   {
    "duration": 203,
    "start_time": "2025-04-15T06:11:09.116Z"
   },
   {
    "duration": 196,
    "start_time": "2025-04-15T06:12:29.877Z"
   },
   {
    "duration": 203,
    "start_time": "2025-04-15T06:12:45.417Z"
   },
   {
    "duration": 285,
    "start_time": "2025-04-15T06:17:03.437Z"
   },
   {
    "duration": 18,
    "start_time": "2025-04-15T06:18:43.269Z"
   },
   {
    "duration": 284,
    "start_time": "2025-04-15T06:19:10.477Z"
   },
   {
    "duration": 286,
    "start_time": "2025-04-15T06:19:39.558Z"
   },
   {
    "duration": 406,
    "start_time": "2025-04-15T06:20:03.230Z"
   },
   {
    "duration": 336,
    "start_time": "2025-04-15T06:20:42.558Z"
   },
   {
    "duration": 228,
    "start_time": "2025-04-15T06:21:30.038Z"
   },
   {
    "duration": 217,
    "start_time": "2025-04-15T06:25:01.338Z"
   },
   {
    "duration": 204,
    "start_time": "2025-04-15T06:25:10.179Z"
   },
   {
    "duration": 212,
    "start_time": "2025-04-15T06:25:15.197Z"
   },
   {
    "duration": 230,
    "start_time": "2025-04-15T06:25:50.999Z"
   },
   {
    "duration": 151,
    "start_time": "2025-04-15T06:50:56.350Z"
   },
   {
    "duration": 1571,
    "start_time": "2025-04-15T06:51:01.010Z"
   },
   {
    "duration": 1434,
    "start_time": "2025-04-15T06:51:13.799Z"
   },
   {
    "duration": 55,
    "start_time": "2025-04-15T06:51:15.235Z"
   },
   {
    "duration": 4,
    "start_time": "2025-04-15T06:51:15.291Z"
   },
   {
    "duration": 56,
    "start_time": "2025-04-15T06:51:15.297Z"
   },
   {
    "duration": 338,
    "start_time": "2025-04-15T06:51:15.355Z"
   },
   {
    "duration": 215,
    "start_time": "2025-04-15T06:51:15.694Z"
   },
   {
    "duration": 1144,
    "start_time": "2025-04-15T06:51:15.911Z"
   },
   {
    "duration": 13,
    "start_time": "2025-04-15T06:51:52.263Z"
   },
   {
    "duration": 1853,
    "start_time": "2025-04-15T06:52:10.985Z"
   },
   {
    "duration": 11,
    "start_time": "2025-04-15T06:52:18.290Z"
   },
   {
    "duration": 418,
    "start_time": "2025-04-15T06:53:10.070Z"
   },
   {
    "duration": 333,
    "start_time": "2025-04-15T06:55:00.630Z"
   },
   {
    "duration": 332,
    "start_time": "2025-04-15T06:55:05.386Z"
   },
   {
    "duration": 420,
    "start_time": "2025-04-15T06:55:12.809Z"
   },
   {
    "duration": 334,
    "start_time": "2025-04-15T06:56:03.977Z"
   },
   {
    "duration": 4,
    "start_time": "2025-04-15T06:57:37.701Z"
   },
   {
    "duration": 280,
    "start_time": "2025-04-15T06:57:37.909Z"
   },
   {
    "duration": 225,
    "start_time": "2025-04-15T06:57:38.191Z"
   },
   {
    "duration": 340,
    "start_time": "2025-04-15T06:57:38.418Z"
   },
   {
    "duration": 1477,
    "start_time": "2025-04-15T06:57:54.068Z"
   },
   {
    "duration": 70,
    "start_time": "2025-04-15T06:57:55.547Z"
   },
   {
    "duration": 4,
    "start_time": "2025-04-15T06:57:55.619Z"
   },
   {
    "duration": 30,
    "start_time": "2025-04-15T06:57:55.625Z"
   },
   {
    "duration": 3,
    "start_time": "2025-04-15T06:57:55.657Z"
   },
   {
    "duration": 348,
    "start_time": "2025-04-15T06:57:55.661Z"
   },
   {
    "duration": 209,
    "start_time": "2025-04-15T06:57:56.010Z"
   },
   {
    "duration": 376,
    "start_time": "2025-04-15T06:57:56.221Z"
   },
   {
    "duration": 1842,
    "start_time": "2025-04-16T05:02:59.593Z"
   },
   {
    "duration": 72,
    "start_time": "2025-04-16T05:03:01.438Z"
   },
   {
    "duration": 6,
    "start_time": "2025-04-16T05:03:01.512Z"
   },
   {
    "duration": 46,
    "start_time": "2025-04-16T05:03:01.520Z"
   },
   {
    "duration": 3,
    "start_time": "2025-04-16T05:03:01.568Z"
   },
   {
    "duration": 430,
    "start_time": "2025-04-16T05:03:01.572Z"
   },
   {
    "duration": 257,
    "start_time": "2025-04-16T05:03:02.004Z"
   },
   {
    "duration": 431,
    "start_time": "2025-04-16T05:03:02.263Z"
   },
   {
    "duration": 10,
    "start_time": "2025-04-16T05:03:02.696Z"
   },
   {
    "duration": 139,
    "start_time": "2025-04-16T05:03:02.709Z"
   },
   {
    "duration": 0,
    "start_time": "2025-04-16T05:03:02.850Z"
   },
   {
    "duration": 0,
    "start_time": "2025-04-16T05:03:02.852Z"
   },
   {
    "duration": 0,
    "start_time": "2025-04-16T05:03:02.854Z"
   },
   {
    "duration": 0,
    "start_time": "2025-04-16T05:03:02.855Z"
   },
   {
    "duration": 11,
    "start_time": "2025-04-16T05:08:26.614Z"
   },
   {
    "duration": 6,
    "start_time": "2025-04-16T05:09:55.145Z"
   },
   {
    "duration": 1627,
    "start_time": "2025-04-16T05:10:54.633Z"
   },
   {
    "duration": 68,
    "start_time": "2025-04-16T05:10:56.263Z"
   },
   {
    "duration": 4,
    "start_time": "2025-04-16T05:10:56.332Z"
   },
   {
    "duration": 36,
    "start_time": "2025-04-16T05:10:56.338Z"
   },
   {
    "duration": 68,
    "start_time": "2025-04-16T05:10:56.377Z"
   },
   {
    "duration": 378,
    "start_time": "2025-04-16T05:10:56.448Z"
   },
   {
    "duration": 247,
    "start_time": "2025-04-16T05:10:56.828Z"
   },
   {
    "duration": 427,
    "start_time": "2025-04-16T05:10:57.077Z"
   },
   {
    "duration": 9,
    "start_time": "2025-04-16T05:10:57.506Z"
   },
   {
    "duration": 28,
    "start_time": "2025-04-16T05:10:57.517Z"
   },
   {
    "duration": 11,
    "start_time": "2025-04-16T05:10:57.549Z"
   },
   {
    "duration": 9,
    "start_time": "2025-04-16T05:10:57.562Z"
   },
   {
    "duration": 3,
    "start_time": "2025-04-16T05:10:57.573Z"
   },
   {
    "duration": 10,
    "start_time": "2025-04-16T05:10:57.578Z"
   },
   {
    "duration": 79,
    "start_time": "2025-04-16T05:10:57.590Z"
   },
   {
    "duration": 99,
    "start_time": "2025-04-16T05:10:57.672Z"
   },
   {
    "duration": 1698,
    "start_time": "2025-04-16T05:11:39.381Z"
   },
   {
    "duration": 63,
    "start_time": "2025-04-16T05:11:41.081Z"
   },
   {
    "duration": 5,
    "start_time": "2025-04-16T05:11:41.153Z"
   },
   {
    "duration": 103,
    "start_time": "2025-04-16T05:11:41.160Z"
   },
   {
    "duration": 88,
    "start_time": "2025-04-16T05:11:41.266Z"
   },
   {
    "duration": 382,
    "start_time": "2025-04-16T05:11:41.356Z"
   },
   {
    "duration": 245,
    "start_time": "2025-04-16T05:11:41.740Z"
   },
   {
    "duration": 429,
    "start_time": "2025-04-16T05:11:41.987Z"
   },
   {
    "duration": 10,
    "start_time": "2025-04-16T05:11:42.418Z"
   },
   {
    "duration": 61,
    "start_time": "2025-04-16T05:11:42.446Z"
   },
   {
    "duration": 37,
    "start_time": "2025-04-16T05:11:42.509Z"
   },
   {
    "duration": 16,
    "start_time": "2025-04-16T05:11:42.549Z"
   },
   {
    "duration": 57,
    "start_time": "2025-04-16T05:11:42.567Z"
   },
   {
    "duration": 31,
    "start_time": "2025-04-16T05:11:42.626Z"
   },
   {
    "duration": 15,
    "start_time": "2025-04-16T05:11:42.659Z"
   },
   {
    "duration": 90,
    "start_time": "2025-04-16T05:11:42.747Z"
   },
   {
    "duration": 1658,
    "start_time": "2025-04-16T05:11:59.663Z"
   },
   {
    "duration": 77,
    "start_time": "2025-04-16T05:12:01.323Z"
   },
   {
    "duration": 5,
    "start_time": "2025-04-16T05:12:01.402Z"
   },
   {
    "duration": 42,
    "start_time": "2025-04-16T05:12:01.408Z"
   },
   {
    "duration": 3,
    "start_time": "2025-04-16T05:12:01.453Z"
   },
   {
    "duration": 404,
    "start_time": "2025-04-16T05:12:01.458Z"
   },
   {
    "duration": 243,
    "start_time": "2025-04-16T05:12:01.864Z"
   },
   {
    "duration": 479,
    "start_time": "2025-04-16T05:12:02.109Z"
   },
   {
    "duration": 10,
    "start_time": "2025-04-16T05:12:02.590Z"
   },
   {
    "duration": 26,
    "start_time": "2025-04-16T05:12:02.603Z"
   },
   {
    "duration": 23,
    "start_time": "2025-04-16T05:12:02.631Z"
   },
   {
    "duration": 13,
    "start_time": "2025-04-16T05:12:02.655Z"
   },
   {
    "duration": 28,
    "start_time": "2025-04-16T05:12:02.670Z"
   },
   {
    "duration": 62,
    "start_time": "2025-04-16T05:12:02.700Z"
   },
   {
    "duration": 86,
    "start_time": "2025-04-16T05:12:02.765Z"
   },
   {
    "duration": 88,
    "start_time": "2025-04-16T05:12:02.854Z"
   },
   {
    "duration": 1780,
    "start_time": "2025-04-16T05:12:23.518Z"
   },
   {
    "duration": 69,
    "start_time": "2025-04-16T05:12:25.300Z"
   },
   {
    "duration": 5,
    "start_time": "2025-04-16T05:12:25.371Z"
   },
   {
    "duration": 30,
    "start_time": "2025-04-16T05:12:25.379Z"
   },
   {
    "duration": 4,
    "start_time": "2025-04-16T05:12:25.411Z"
   },
   {
    "duration": 409,
    "start_time": "2025-04-16T05:12:25.437Z"
   },
   {
    "duration": 254,
    "start_time": "2025-04-16T05:12:25.849Z"
   },
   {
    "duration": 488,
    "start_time": "2025-04-16T05:12:26.104Z"
   },
   {
    "duration": 9,
    "start_time": "2025-04-16T05:12:26.594Z"
   },
   {
    "duration": 26,
    "start_time": "2025-04-16T05:12:26.605Z"
   },
   {
    "duration": 21,
    "start_time": "2025-04-16T05:12:26.634Z"
   },
   {
    "duration": 16,
    "start_time": "2025-04-16T05:12:26.657Z"
   },
   {
    "duration": 20,
    "start_time": "2025-04-16T05:12:26.675Z"
   },
   {
    "duration": 21,
    "start_time": "2025-04-16T05:12:26.699Z"
   },
   {
    "duration": 126,
    "start_time": "2025-04-16T05:12:26.742Z"
   },
   {
    "duration": 73,
    "start_time": "2025-04-16T05:12:26.873Z"
   },
   {
    "duration": 1687,
    "start_time": "2025-04-16T05:12:40.540Z"
   },
   {
    "duration": 71,
    "start_time": "2025-04-16T05:12:42.229Z"
   },
   {
    "duration": 4,
    "start_time": "2025-04-16T05:12:42.302Z"
   },
   {
    "duration": 32,
    "start_time": "2025-04-16T05:12:42.308Z"
   },
   {
    "duration": 5,
    "start_time": "2025-04-16T05:12:42.346Z"
   },
   {
    "duration": 424,
    "start_time": "2025-04-16T05:12:42.354Z"
   },
   {
    "duration": 249,
    "start_time": "2025-04-16T05:12:42.780Z"
   },
   {
    "duration": 443,
    "start_time": "2025-04-16T05:12:43.031Z"
   },
   {
    "duration": 9,
    "start_time": "2025-04-16T05:12:43.476Z"
   },
   {
    "duration": 7,
    "start_time": "2025-04-16T05:12:43.487Z"
   },
   {
    "duration": 15,
    "start_time": "2025-04-16T05:12:43.495Z"
   },
   {
    "duration": 34,
    "start_time": "2025-04-16T05:12:43.512Z"
   },
   {
    "duration": 4,
    "start_time": "2025-04-16T05:12:43.549Z"
   },
   {
    "duration": 34,
    "start_time": "2025-04-16T05:12:43.556Z"
   },
   {
    "duration": 11,
    "start_time": "2025-04-16T05:12:43.592Z"
   },
   {
    "duration": 71,
    "start_time": "2025-04-16T05:12:43.676Z"
   },
   {
    "duration": 1618,
    "start_time": "2025-04-16T05:13:01.783Z"
   },
   {
    "duration": 75,
    "start_time": "2025-04-16T05:13:03.403Z"
   },
   {
    "duration": 4,
    "start_time": "2025-04-16T05:13:03.479Z"
   },
   {
    "duration": 40,
    "start_time": "2025-04-16T05:13:03.485Z"
   },
   {
    "duration": 14,
    "start_time": "2025-04-16T05:13:03.528Z"
   },
   {
    "duration": 382,
    "start_time": "2025-04-16T05:13:03.544Z"
   },
   {
    "duration": 263,
    "start_time": "2025-04-16T05:13:03.928Z"
   },
   {
    "duration": 477,
    "start_time": "2025-04-16T05:13:04.193Z"
   },
   {
    "duration": 14,
    "start_time": "2025-04-16T05:13:04.671Z"
   },
   {
    "duration": 22,
    "start_time": "2025-04-16T05:13:04.687Z"
   },
   {
    "duration": 13,
    "start_time": "2025-04-16T05:13:04.711Z"
   },
   {
    "duration": 14,
    "start_time": "2025-04-16T05:13:04.726Z"
   },
   {
    "duration": 5,
    "start_time": "2025-04-16T05:13:04.742Z"
   },
   {
    "duration": 12,
    "start_time": "2025-04-16T05:13:04.751Z"
   },
   {
    "duration": 82,
    "start_time": "2025-04-16T05:13:04.766Z"
   },
   {
    "duration": 96,
    "start_time": "2025-04-16T05:13:04.851Z"
   },
   {
    "duration": 14,
    "start_time": "2025-04-16T05:13:29.090Z"
   },
   {
    "duration": 1646,
    "start_time": "2025-04-16T05:14:01.887Z"
   },
   {
    "duration": 69,
    "start_time": "2025-04-16T05:14:03.535Z"
   },
   {
    "duration": 5,
    "start_time": "2025-04-16T05:14:03.606Z"
   },
   {
    "duration": 41,
    "start_time": "2025-04-16T05:14:03.613Z"
   },
   {
    "duration": 7,
    "start_time": "2025-04-16T05:14:03.657Z"
   },
   {
    "duration": 448,
    "start_time": "2025-04-16T05:14:03.666Z"
   },
   {
    "duration": 304,
    "start_time": "2025-04-16T05:14:04.117Z"
   },
   {
    "duration": 534,
    "start_time": "2025-04-16T05:14:04.423Z"
   },
   {
    "duration": 10,
    "start_time": "2025-04-16T05:14:04.959Z"
   },
   {
    "duration": 69,
    "start_time": "2025-04-16T05:14:04.972Z"
   },
   {
    "duration": 14,
    "start_time": "2025-04-16T05:14:05.043Z"
   },
   {
    "duration": 11,
    "start_time": "2025-04-16T05:14:05.059Z"
   },
   {
    "duration": 17,
    "start_time": "2025-04-16T05:14:05.072Z"
   },
   {
    "duration": 32,
    "start_time": "2025-04-16T05:14:05.091Z"
   },
   {
    "duration": 42,
    "start_time": "2025-04-16T05:14:05.126Z"
   },
   {
    "duration": 170,
    "start_time": "2025-04-16T05:14:05.172Z"
   },
   {
    "duration": 9,
    "start_time": "2025-04-16T05:14:28.589Z"
   },
   {
    "duration": 10,
    "start_time": "2025-04-16T05:14:33.818Z"
   },
   {
    "duration": 1699,
    "start_time": "2025-04-16T05:15:04.279Z"
   },
   {
    "duration": 58,
    "start_time": "2025-04-16T05:15:05.981Z"
   },
   {
    "duration": 8,
    "start_time": "2025-04-16T05:15:06.042Z"
   },
   {
    "duration": 47,
    "start_time": "2025-04-16T05:15:06.053Z"
   },
   {
    "duration": 3,
    "start_time": "2025-04-16T05:15:06.102Z"
   },
   {
    "duration": 416,
    "start_time": "2025-04-16T05:15:06.106Z"
   },
   {
    "duration": 271,
    "start_time": "2025-04-16T05:15:06.524Z"
   },
   {
    "duration": 442,
    "start_time": "2025-04-16T05:15:06.797Z"
   },
   {
    "duration": 6,
    "start_time": "2025-04-16T05:15:07.242Z"
   },
   {
    "duration": 41,
    "start_time": "2025-04-16T05:15:07.251Z"
   },
   {
    "duration": 25,
    "start_time": "2025-04-16T05:15:07.293Z"
   },
   {
    "duration": 21,
    "start_time": "2025-04-16T05:15:07.320Z"
   },
   {
    "duration": 14,
    "start_time": "2025-04-16T05:15:07.344Z"
   },
   {
    "duration": 16,
    "start_time": "2025-04-16T05:15:07.362Z"
   },
   {
    "duration": 107,
    "start_time": "2025-04-16T05:15:07.439Z"
   },
   {
    "duration": 107,
    "start_time": "2025-04-16T05:15:07.550Z"
   },
   {
    "duration": 1649,
    "start_time": "2025-04-16T05:16:08.705Z"
   },
   {
    "duration": 60,
    "start_time": "2025-04-16T05:16:10.357Z"
   },
   {
    "duration": 4,
    "start_time": "2025-04-16T05:16:10.418Z"
   },
   {
    "duration": 45,
    "start_time": "2025-04-16T05:16:10.424Z"
   },
   {
    "duration": 3,
    "start_time": "2025-04-16T05:16:10.471Z"
   },
   {
    "duration": 388,
    "start_time": "2025-04-16T05:16:10.475Z"
   },
   {
    "duration": 253,
    "start_time": "2025-04-16T05:16:10.865Z"
   },
   {
    "duration": 458,
    "start_time": "2025-04-16T05:16:11.119Z"
   },
   {
    "duration": 4,
    "start_time": "2025-04-16T05:16:11.579Z"
   },
   {
    "duration": 142,
    "start_time": "2025-04-16T05:16:11.585Z"
   },
   {
    "duration": 0,
    "start_time": "2025-04-16T05:16:11.728Z"
   },
   {
    "duration": 0,
    "start_time": "2025-04-16T05:16:11.738Z"
   },
   {
    "duration": 0,
    "start_time": "2025-04-16T05:16:11.739Z"
   },
   {
    "duration": 0,
    "start_time": "2025-04-16T05:16:11.740Z"
   },
   {
    "duration": 0,
    "start_time": "2025-04-16T05:16:11.745Z"
   },
   {
    "duration": 0,
    "start_time": "2025-04-16T05:16:11.747Z"
   },
   {
    "duration": 4,
    "start_time": "2025-04-16T05:16:20.754Z"
   },
   {
    "duration": 6,
    "start_time": "2025-04-16T05:16:21.626Z"
   },
   {
    "duration": 10,
    "start_time": "2025-04-16T05:16:22.925Z"
   },
   {
    "duration": 9,
    "start_time": "2025-04-16T05:16:26.524Z"
   },
   {
    "duration": 3,
    "start_time": "2025-04-16T05:16:26.885Z"
   },
   {
    "duration": 8,
    "start_time": "2025-04-16T05:16:28.506Z"
   },
   {
    "duration": 31,
    "start_time": "2025-04-16T05:16:29.006Z"
   },
   {
    "duration": 10,
    "start_time": "2025-04-16T05:16:29.255Z"
   },
   {
    "duration": 1641,
    "start_time": "2025-04-16T05:17:16.788Z"
   },
   {
    "duration": 66,
    "start_time": "2025-04-16T05:17:18.430Z"
   },
   {
    "duration": 5,
    "start_time": "2025-04-16T05:17:18.498Z"
   },
   {
    "duration": 30,
    "start_time": "2025-04-16T05:17:18.504Z"
   },
   {
    "duration": 9,
    "start_time": "2025-04-16T05:17:18.539Z"
   },
   {
    "duration": 378,
    "start_time": "2025-04-16T05:17:18.552Z"
   },
   {
    "duration": 240,
    "start_time": "2025-04-16T05:17:18.932Z"
   },
   {
    "duration": 439,
    "start_time": "2025-04-16T05:17:19.174Z"
   },
   {
    "duration": 4,
    "start_time": "2025-04-16T05:17:19.615Z"
   },
   {
    "duration": 34,
    "start_time": "2025-04-16T05:17:19.621Z"
   },
   {
    "duration": 20,
    "start_time": "2025-04-16T05:17:19.657Z"
   },
   {
    "duration": 10,
    "start_time": "2025-04-16T05:17:19.678Z"
   },
   {
    "duration": 2,
    "start_time": "2025-04-16T05:17:19.690Z"
   },
   {
    "duration": 15,
    "start_time": "2025-04-16T05:17:19.695Z"
   },
   {
    "duration": 100,
    "start_time": "2025-04-16T05:17:19.738Z"
   },
   {
    "duration": 99,
    "start_time": "2025-04-16T05:17:19.840Z"
   },
   {
    "duration": 1705,
    "start_time": "2025-04-16T05:17:36.027Z"
   },
   {
    "duration": 63,
    "start_time": "2025-04-16T05:17:37.734Z"
   },
   {
    "duration": 44,
    "start_time": "2025-04-16T05:17:37.799Z"
   },
   {
    "duration": 34,
    "start_time": "2025-04-16T05:17:37.852Z"
   },
   {
    "duration": 3,
    "start_time": "2025-04-16T05:17:37.888Z"
   },
   {
    "duration": 397,
    "start_time": "2025-04-16T05:17:37.893Z"
   },
   {
    "duration": 228,
    "start_time": "2025-04-16T05:17:38.292Z"
   },
   {
    "duration": 446,
    "start_time": "2025-04-16T05:17:38.522Z"
   },
   {
    "duration": 4,
    "start_time": "2025-04-16T05:17:38.970Z"
   },
   {
    "duration": 67,
    "start_time": "2025-04-16T05:17:38.977Z"
   },
   {
    "duration": 20,
    "start_time": "2025-04-16T05:17:39.046Z"
   },
   {
    "duration": 11,
    "start_time": "2025-04-16T05:17:39.068Z"
   },
   {
    "duration": 2,
    "start_time": "2025-04-16T05:17:39.081Z"
   },
   {
    "duration": 59,
    "start_time": "2025-04-16T05:17:39.086Z"
   },
   {
    "duration": 104,
    "start_time": "2025-04-16T05:17:39.150Z"
   },
   {
    "duration": 82,
    "start_time": "2025-04-16T05:17:39.257Z"
   },
   {
    "duration": 1639,
    "start_time": "2025-04-16T05:17:52.795Z"
   },
   {
    "duration": 59,
    "start_time": "2025-04-16T05:17:54.436Z"
   },
   {
    "duration": 4,
    "start_time": "2025-04-16T05:17:54.497Z"
   },
   {
    "duration": 51,
    "start_time": "2025-04-16T05:17:54.503Z"
   },
   {
    "duration": 3,
    "start_time": "2025-04-16T05:17:54.556Z"
   },
   {
    "duration": 505,
    "start_time": "2025-04-16T05:17:54.561Z"
   },
   {
    "duration": 245,
    "start_time": "2025-04-16T05:17:55.068Z"
   },
   {
    "duration": 441,
    "start_time": "2025-04-16T05:17:55.315Z"
   },
   {
    "duration": 7,
    "start_time": "2025-04-16T05:17:55.758Z"
   },
   {
    "duration": 90,
    "start_time": "2025-04-16T05:17:55.767Z"
   },
   {
    "duration": 18,
    "start_time": "2025-04-16T05:17:55.859Z"
   },
   {
    "duration": 14,
    "start_time": "2025-04-16T05:17:55.879Z"
   },
   {
    "duration": 7,
    "start_time": "2025-04-16T05:17:55.895Z"
   },
   {
    "duration": 11,
    "start_time": "2025-04-16T05:17:55.904Z"
   },
   {
    "duration": 104,
    "start_time": "2025-04-16T05:17:55.943Z"
   },
   {
    "duration": 106,
    "start_time": "2025-04-16T05:17:56.053Z"
   },
   {
    "duration": 1629,
    "start_time": "2025-04-16T05:18:08.294Z"
   },
   {
    "duration": 62,
    "start_time": "2025-04-16T05:18:09.925Z"
   },
   {
    "duration": 5,
    "start_time": "2025-04-16T05:18:09.988Z"
   },
   {
    "duration": 50,
    "start_time": "2025-04-16T05:18:09.995Z"
   },
   {
    "duration": 4,
    "start_time": "2025-04-16T05:18:10.047Z"
   },
   {
    "duration": 437,
    "start_time": "2025-04-16T05:18:10.053Z"
   },
   {
    "duration": 248,
    "start_time": "2025-04-16T05:18:10.493Z"
   },
   {
    "duration": 450,
    "start_time": "2025-04-16T05:18:10.744Z"
   },
   {
    "duration": 5,
    "start_time": "2025-04-16T05:18:11.196Z"
   },
   {
    "duration": 15,
    "start_time": "2025-04-16T05:18:11.204Z"
   },
   {
    "duration": 36,
    "start_time": "2025-04-16T05:18:11.221Z"
   },
   {
    "duration": 10,
    "start_time": "2025-04-16T05:18:11.259Z"
   },
   {
    "duration": 3,
    "start_time": "2025-04-16T05:18:11.270Z"
   },
   {
    "duration": 10,
    "start_time": "2025-04-16T05:18:11.274Z"
   },
   {
    "duration": 85,
    "start_time": "2025-04-16T05:18:11.286Z"
   },
   {
    "duration": 74,
    "start_time": "2025-04-16T05:18:11.373Z"
   },
   {
    "duration": 1655,
    "start_time": "2025-04-16T05:18:20.567Z"
   },
   {
    "duration": 75,
    "start_time": "2025-04-16T05:18:22.224Z"
   },
   {
    "duration": 4,
    "start_time": "2025-04-16T05:18:22.300Z"
   },
   {
    "duration": 26,
    "start_time": "2025-04-16T05:18:22.306Z"
   },
   {
    "duration": 4,
    "start_time": "2025-04-16T05:18:22.335Z"
   },
   {
    "duration": 389,
    "start_time": "2025-04-16T05:18:22.341Z"
   },
   {
    "duration": 241,
    "start_time": "2025-04-16T05:18:22.732Z"
   },
   {
    "duration": 450,
    "start_time": "2025-04-16T05:18:22.974Z"
   },
   {
    "duration": 4,
    "start_time": "2025-04-16T05:18:23.426Z"
   },
   {
    "duration": 32,
    "start_time": "2025-04-16T05:18:23.431Z"
   },
   {
    "duration": 14,
    "start_time": "2025-04-16T05:18:23.465Z"
   },
   {
    "duration": 18,
    "start_time": "2025-04-16T05:18:23.480Z"
   },
   {
    "duration": 2,
    "start_time": "2025-04-16T05:18:23.500Z"
   },
   {
    "duration": 12,
    "start_time": "2025-04-16T05:18:23.505Z"
   },
   {
    "duration": 37,
    "start_time": "2025-04-16T05:18:23.519Z"
   },
   {
    "duration": 88,
    "start_time": "2025-04-16T05:18:23.559Z"
   },
   {
    "duration": 1749,
    "start_time": "2025-04-16T17:38:46.164Z"
   },
   {
    "duration": 70,
    "start_time": "2025-04-16T17:38:47.915Z"
   },
   {
    "duration": 4,
    "start_time": "2025-04-16T17:38:47.987Z"
   },
   {
    "duration": 74,
    "start_time": "2025-04-16T17:38:47.992Z"
   },
   {
    "duration": 2,
    "start_time": "2025-04-16T17:38:48.069Z"
   },
   {
    "duration": 362,
    "start_time": "2025-04-16T17:38:48.072Z"
   },
   {
    "duration": 309,
    "start_time": "2025-04-16T17:38:48.436Z"
   },
   {
    "duration": 331,
    "start_time": "2025-04-16T17:38:48.746Z"
   },
   {
    "duration": 3,
    "start_time": "2025-04-16T17:38:49.079Z"
   },
   {
    "duration": 21,
    "start_time": "2025-04-16T17:38:49.084Z"
   },
   {
    "duration": 13,
    "start_time": "2025-04-16T17:38:49.107Z"
   },
   {
    "duration": 19,
    "start_time": "2025-04-16T17:38:49.122Z"
   },
   {
    "duration": 3,
    "start_time": "2025-04-16T17:38:49.143Z"
   },
   {
    "duration": 10,
    "start_time": "2025-04-16T17:38:49.148Z"
   },
   {
    "duration": 54,
    "start_time": "2025-04-16T17:38:49.159Z"
   },
   {
    "duration": 7,
    "start_time": "2025-04-16T17:38:49.306Z"
   },
   {
    "duration": 1551,
    "start_time": "2025-04-16T17:41:47.414Z"
   },
   {
    "duration": 59,
    "start_time": "2025-04-16T17:41:48.967Z"
   },
   {
    "duration": 4,
    "start_time": "2025-04-16T17:41:49.028Z"
   },
   {
    "duration": 33,
    "start_time": "2025-04-16T17:41:49.034Z"
   },
   {
    "duration": 3,
    "start_time": "2025-04-16T17:41:49.069Z"
   },
   {
    "duration": 377,
    "start_time": "2025-04-16T17:41:49.073Z"
   },
   {
    "duration": 233,
    "start_time": "2025-04-16T17:41:49.452Z"
   },
   {
    "duration": 311,
    "start_time": "2025-04-16T17:41:49.687Z"
   },
   {
    "duration": 323,
    "start_time": "2025-04-16T17:41:50.000Z"
   },
   {
    "duration": 5,
    "start_time": "2025-04-16T17:41:50.325Z"
   },
   {
    "duration": 86,
    "start_time": "2025-04-16T17:41:50.331Z"
   },
   {
    "duration": 94,
    "start_time": "2025-04-16T17:41:50.418Z"
   },
   {
    "duration": 70,
    "start_time": "2025-04-16T17:41:50.514Z"
   },
   {
    "duration": 32,
    "start_time": "2025-04-16T17:41:50.587Z"
   },
   {
    "duration": 54,
    "start_time": "2025-04-16T17:41:50.621Z"
   },
   {
    "duration": 73,
    "start_time": "2025-04-16T17:41:50.677Z"
   },
   {
    "duration": 61,
    "start_time": "2025-04-16T17:41:50.752Z"
   },
   {
    "duration": 229,
    "start_time": "2025-04-16T17:43:17.554Z"
   },
   {
    "duration": 229,
    "start_time": "2025-04-16T17:44:02.311Z"
   },
   {
    "duration": 1709,
    "start_time": "2025-04-18T03:37:03.368Z"
   },
   {
    "duration": 68,
    "start_time": "2025-04-18T03:37:05.079Z"
   },
   {
    "duration": 5,
    "start_time": "2025-04-18T03:37:05.149Z"
   },
   {
    "duration": 34,
    "start_time": "2025-04-18T03:37:05.155Z"
   },
   {
    "duration": 4,
    "start_time": "2025-04-18T03:37:05.203Z"
   },
   {
    "duration": 336,
    "start_time": "2025-04-18T03:37:05.209Z"
   },
   {
    "duration": 315,
    "start_time": "2025-04-18T03:37:05.547Z"
   },
   {
    "duration": 242,
    "start_time": "2025-04-18T03:37:05.864Z"
   },
   {
    "duration": 238,
    "start_time": "2025-04-18T03:37:06.109Z"
   },
   {
    "duration": 331,
    "start_time": "2025-04-18T03:37:06.349Z"
   },
   {
    "duration": 5,
    "start_time": "2025-04-18T03:37:06.682Z"
   },
   {
    "duration": 26,
    "start_time": "2025-04-18T03:37:06.689Z"
   },
   {
    "duration": 20,
    "start_time": "2025-04-18T03:37:06.717Z"
   },
   {
    "duration": 16,
    "start_time": "2025-04-18T03:37:06.741Z"
   },
   {
    "duration": 40,
    "start_time": "2025-04-18T03:37:06.758Z"
   },
   {
    "duration": 24,
    "start_time": "2025-04-18T03:37:06.800Z"
   },
   {
    "duration": 80,
    "start_time": "2025-04-18T03:37:06.825Z"
   },
   {
    "duration": 99,
    "start_time": "2025-04-18T03:37:06.907Z"
   },
   {
    "duration": 162,
    "start_time": "2025-04-18T03:37:07.008Z"
   },
   {
    "duration": 0,
    "start_time": "2025-04-18T03:37:07.172Z"
   },
   {
    "duration": 1520,
    "start_time": "2025-04-18T03:41:01.745Z"
   },
   {
    "duration": 68,
    "start_time": "2025-04-18T03:41:03.267Z"
   },
   {
    "duration": 5,
    "start_time": "2025-04-18T03:41:03.337Z"
   },
   {
    "duration": 68,
    "start_time": "2025-04-18T03:41:03.345Z"
   },
   {
    "duration": 3,
    "start_time": "2025-04-18T03:41:03.416Z"
   },
   {
    "duration": 341,
    "start_time": "2025-04-18T03:41:03.421Z"
   },
   {
    "duration": 319,
    "start_time": "2025-04-18T03:41:03.764Z"
   },
   {
    "duration": 242,
    "start_time": "2025-04-18T03:41:04.085Z"
   },
   {
    "duration": 235,
    "start_time": "2025-04-18T03:41:04.329Z"
   },
   {
    "duration": 327,
    "start_time": "2025-04-18T03:41:04.567Z"
   },
   {
    "duration": 9,
    "start_time": "2025-04-18T03:41:04.896Z"
   },
   {
    "duration": 18,
    "start_time": "2025-04-18T03:41:04.907Z"
   },
   {
    "duration": 15,
    "start_time": "2025-04-18T03:41:04.926Z"
   },
   {
    "duration": 79,
    "start_time": "2025-04-18T03:41:04.945Z"
   },
   {
    "duration": 78,
    "start_time": "2025-04-18T03:41:05.026Z"
   },
   {
    "duration": 31,
    "start_time": "2025-04-18T03:41:05.106Z"
   },
   {
    "duration": 11,
    "start_time": "2025-04-18T03:41:05.138Z"
   },
   {
    "duration": 157,
    "start_time": "2025-04-18T03:41:05.152Z"
   },
   {
    "duration": 220,
    "start_time": "2025-04-18T03:41:05.311Z"
   },
   {
    "duration": 0,
    "start_time": "2025-04-18T03:41:05.533Z"
   },
   {
    "duration": 25,
    "start_time": "2025-04-18T03:42:10.541Z"
   },
   {
    "duration": 12,
    "start_time": "2025-04-18T03:46:06.740Z"
   },
   {
    "duration": 1672,
    "start_time": "2025-04-18T03:48:22.168Z"
   },
   {
    "duration": 68,
    "start_time": "2025-04-18T03:48:23.842Z"
   },
   {
    "duration": 4,
    "start_time": "2025-04-18T03:48:23.912Z"
   },
   {
    "duration": 99,
    "start_time": "2025-04-18T03:48:23.917Z"
   },
   {
    "duration": 3,
    "start_time": "2025-04-18T03:48:24.018Z"
   },
   {
    "duration": 337,
    "start_time": "2025-04-18T03:48:24.022Z"
   },
   {
    "duration": 321,
    "start_time": "2025-04-18T03:48:24.361Z"
   },
   {
    "duration": 244,
    "start_time": "2025-04-18T03:48:24.683Z"
   },
   {
    "duration": 232,
    "start_time": "2025-04-18T03:48:24.929Z"
   },
   {
    "duration": 342,
    "start_time": "2025-04-18T03:48:25.162Z"
   },
   {
    "duration": 4,
    "start_time": "2025-04-18T03:48:25.506Z"
   },
   {
    "duration": 22,
    "start_time": "2025-04-18T03:48:25.511Z"
   },
   {
    "duration": 14,
    "start_time": "2025-04-18T03:48:25.535Z"
   },
   {
    "duration": 112,
    "start_time": "2025-04-18T03:48:25.552Z"
   },
   {
    "duration": 129,
    "start_time": "2025-04-18T03:48:25.665Z"
   },
   {
    "duration": 0,
    "start_time": "2025-04-18T03:48:25.795Z"
   },
   {
    "duration": 0,
    "start_time": "2025-04-18T03:48:25.797Z"
   },
   {
    "duration": 0,
    "start_time": "2025-04-18T03:48:25.798Z"
   },
   {
    "duration": 0,
    "start_time": "2025-04-18T03:48:25.799Z"
   },
   {
    "duration": 0,
    "start_time": "2025-04-18T03:48:25.800Z"
   },
   {
    "duration": 0,
    "start_time": "2025-04-18T03:48:25.801Z"
   },
   {
    "duration": 0,
    "start_time": "2025-04-18T03:48:25.804Z"
   },
   {
    "duration": 2391,
    "start_time": "2025-04-18T03:49:02.813Z"
   },
   {
    "duration": 58,
    "start_time": "2025-04-18T03:49:05.206Z"
   },
   {
    "duration": 4,
    "start_time": "2025-04-18T03:49:05.266Z"
   },
   {
    "duration": 47,
    "start_time": "2025-04-18T03:49:05.271Z"
   },
   {
    "duration": 2,
    "start_time": "2025-04-18T03:49:05.321Z"
   },
   {
    "duration": 431,
    "start_time": "2025-04-18T03:49:05.325Z"
   },
   {
    "duration": 321,
    "start_time": "2025-04-18T03:49:05.758Z"
   },
   {
    "duration": 260,
    "start_time": "2025-04-18T03:49:06.080Z"
   },
   {
    "duration": 248,
    "start_time": "2025-04-18T03:49:06.342Z"
   },
   {
    "duration": 337,
    "start_time": "2025-04-18T03:49:06.592Z"
   },
   {
    "duration": 4,
    "start_time": "2025-04-18T03:49:06.931Z"
   },
   {
    "duration": 33,
    "start_time": "2025-04-18T03:49:06.937Z"
   },
   {
    "duration": 14,
    "start_time": "2025-04-18T03:49:06.972Z"
   },
   {
    "duration": 129,
    "start_time": "2025-04-18T03:49:06.989Z"
   },
   {
    "duration": 142,
    "start_time": "2025-04-18T03:49:07.120Z"
   },
   {
    "duration": 1,
    "start_time": "2025-04-18T03:49:07.263Z"
   },
   {
    "duration": 0,
    "start_time": "2025-04-18T03:49:07.265Z"
   },
   {
    "duration": 0,
    "start_time": "2025-04-18T03:49:07.267Z"
   },
   {
    "duration": 0,
    "start_time": "2025-04-18T03:49:07.268Z"
   },
   {
    "duration": 0,
    "start_time": "2025-04-18T03:49:07.269Z"
   },
   {
    "duration": 0,
    "start_time": "2025-04-18T03:49:07.270Z"
   },
   {
    "duration": 0,
    "start_time": "2025-04-18T03:49:07.271Z"
   },
   {
    "duration": 2,
    "start_time": "2025-04-18T03:51:54.034Z"
   },
   {
    "duration": 885,
    "start_time": "2025-04-18T03:51:54.849Z"
   },
   {
    "duration": 5,
    "start_time": "2025-04-18T03:52:16.164Z"
   },
   {
    "duration": 3,
    "start_time": "2025-04-18T03:52:26.115Z"
   },
   {
    "duration": 5,
    "start_time": "2025-04-18T03:52:26.953Z"
   },
   {
    "duration": 1051,
    "start_time": "2025-04-18T03:52:28.609Z"
   },
   {
    "duration": 4,
    "start_time": "2025-04-18T03:52:47.593Z"
   },
   {
    "duration": 4,
    "start_time": "2025-04-18T03:52:47.828Z"
   },
   {
    "duration": 25,
    "start_time": "2025-04-18T03:52:48.249Z"
   },
   {
    "duration": 21,
    "start_time": "2025-04-18T03:52:58.954Z"
   },
   {
    "duration": 18,
    "start_time": "2025-04-18T03:53:44.459Z"
   },
   {
    "duration": 12,
    "start_time": "2025-04-18T03:58:32.298Z"
   },
   {
    "duration": 15,
    "start_time": "2025-04-18T03:58:37.430Z"
   },
   {
    "duration": 3,
    "start_time": "2025-04-18T03:59:04.998Z"
   },
   {
    "duration": 10,
    "start_time": "2025-04-18T03:59:05.230Z"
   },
   {
    "duration": 9,
    "start_time": "2025-04-18T03:59:17.618Z"
   },
   {
    "duration": 8,
    "start_time": "2025-04-18T03:59:19.630Z"
   },
   {
    "duration": 12,
    "start_time": "2025-04-18T03:59:20.158Z"
   },
   {
    "duration": 7,
    "start_time": "2025-04-18T03:59:36.970Z"
   },
   {
    "duration": 1776,
    "start_time": "2025-04-18T04:00:24.934Z"
   },
   {
    "duration": 61,
    "start_time": "2025-04-18T04:00:26.712Z"
   },
   {
    "duration": 55,
    "start_time": "2025-04-18T04:00:26.775Z"
   },
   {
    "duration": 34,
    "start_time": "2025-04-18T04:00:26.832Z"
   },
   {
    "duration": 3,
    "start_time": "2025-04-18T04:00:26.869Z"
   },
   {
    "duration": 348,
    "start_time": "2025-04-18T04:00:26.874Z"
   },
   {
    "duration": 367,
    "start_time": "2025-04-18T04:00:27.224Z"
   },
   {
    "duration": 254,
    "start_time": "2025-04-18T04:00:27.594Z"
   },
   {
    "duration": 250,
    "start_time": "2025-04-18T04:00:27.850Z"
   },
   {
    "duration": 363,
    "start_time": "2025-04-18T04:00:28.102Z"
   },
   {
    "duration": 4,
    "start_time": "2025-04-18T04:00:28.467Z"
   },
   {
    "duration": 18,
    "start_time": "2025-04-18T04:00:28.472Z"
   },
   {
    "duration": 23,
    "start_time": "2025-04-18T04:00:28.492Z"
   },
   {
    "duration": 17,
    "start_time": "2025-04-18T04:00:28.518Z"
   },
   {
    "duration": 3,
    "start_time": "2025-04-18T04:00:28.537Z"
   },
   {
    "duration": 6,
    "start_time": "2025-04-18T04:00:28.542Z"
   },
   {
    "duration": 14,
    "start_time": "2025-04-18T04:00:28.550Z"
   },
   {
    "duration": 12,
    "start_time": "2025-04-18T04:00:28.566Z"
   },
   {
    "duration": 31,
    "start_time": "2025-04-18T04:00:28.580Z"
   },
   {
    "duration": 91,
    "start_time": "2025-04-18T04:00:28.613Z"
   },
   {
    "duration": 98,
    "start_time": "2025-04-18T04:00:28.706Z"
   },
   {
    "duration": 15,
    "start_time": "2025-04-18T04:00:28.806Z"
   },
   {
    "duration": 131,
    "start_time": "2025-04-18T04:00:28.823Z"
   },
   {
    "duration": 0,
    "start_time": "2025-04-18T04:00:28.956Z"
   },
   {
    "duration": 1518,
    "start_time": "2025-04-18T04:01:01.051Z"
   },
   {
    "duration": 61,
    "start_time": "2025-04-18T04:01:02.571Z"
   },
   {
    "duration": 5,
    "start_time": "2025-04-18T04:01:02.635Z"
   },
   {
    "duration": 45,
    "start_time": "2025-04-18T04:01:02.641Z"
   },
   {
    "duration": 11,
    "start_time": "2025-04-18T04:01:02.688Z"
   },
   {
    "duration": 324,
    "start_time": "2025-04-18T04:01:02.700Z"
   },
   {
    "duration": 320,
    "start_time": "2025-04-18T04:01:03.026Z"
   },
   {
    "duration": 232,
    "start_time": "2025-04-18T04:01:03.348Z"
   },
   {
    "duration": 223,
    "start_time": "2025-04-18T04:01:03.581Z"
   },
   {
    "duration": 308,
    "start_time": "2025-04-18T04:01:03.806Z"
   },
   {
    "duration": 4,
    "start_time": "2025-04-18T04:01:04.116Z"
   },
   {
    "duration": 26,
    "start_time": "2025-04-18T04:01:04.121Z"
   },
   {
    "duration": 17,
    "start_time": "2025-04-18T04:01:04.148Z"
   },
   {
    "duration": 57,
    "start_time": "2025-04-18T04:01:04.168Z"
   },
   {
    "duration": 12,
    "start_time": "2025-04-18T04:01:04.226Z"
   },
   {
    "duration": 47,
    "start_time": "2025-04-18T04:01:04.239Z"
   },
   {
    "duration": 28,
    "start_time": "2025-04-18T04:01:04.288Z"
   },
   {
    "duration": 80,
    "start_time": "2025-04-18T04:01:04.318Z"
   },
   {
    "duration": 108,
    "start_time": "2025-04-18T04:01:04.400Z"
   },
   {
    "duration": 98,
    "start_time": "2025-04-18T04:01:04.509Z"
   },
   {
    "duration": 98,
    "start_time": "2025-04-18T04:01:04.610Z"
   },
   {
    "duration": 6,
    "start_time": "2025-04-18T04:01:04.710Z"
   },
   {
    "duration": 128,
    "start_time": "2025-04-18T04:01:04.717Z"
   },
   {
    "duration": 0,
    "start_time": "2025-04-18T04:01:04.847Z"
   },
   {
    "duration": 1615,
    "start_time": "2025-04-18T04:01:25.653Z"
   },
   {
    "duration": 60,
    "start_time": "2025-04-18T04:01:27.271Z"
   },
   {
    "duration": 5,
    "start_time": "2025-04-18T04:01:27.332Z"
   },
   {
    "duration": 45,
    "start_time": "2025-04-18T04:01:27.338Z"
   },
   {
    "duration": 74,
    "start_time": "2025-04-18T04:01:27.385Z"
   },
   {
    "duration": 377,
    "start_time": "2025-04-18T04:01:27.461Z"
   },
   {
    "duration": 321,
    "start_time": "2025-04-18T04:01:27.839Z"
   },
   {
    "duration": 268,
    "start_time": "2025-04-18T04:01:28.161Z"
   },
   {
    "duration": 246,
    "start_time": "2025-04-18T04:01:28.430Z"
   },
   {
    "duration": 334,
    "start_time": "2025-04-18T04:01:28.677Z"
   },
   {
    "duration": 4,
    "start_time": "2025-04-18T04:01:29.012Z"
   },
   {
    "duration": 28,
    "start_time": "2025-04-18T04:01:29.018Z"
   },
   {
    "duration": 18,
    "start_time": "2025-04-18T04:01:29.048Z"
   },
   {
    "duration": 116,
    "start_time": "2025-04-18T04:01:29.069Z"
   },
   {
    "duration": 2,
    "start_time": "2025-04-18T04:01:29.187Z"
   },
   {
    "duration": 28,
    "start_time": "2025-04-18T04:01:29.191Z"
   },
   {
    "duration": 13,
    "start_time": "2025-04-18T04:01:29.221Z"
   },
   {
    "duration": 2,
    "start_time": "2025-04-18T04:01:29.236Z"
   },
   {
    "duration": 16,
    "start_time": "2025-04-18T04:01:29.240Z"
   },
   {
    "duration": 57,
    "start_time": "2025-04-18T04:01:29.259Z"
   },
   {
    "duration": 186,
    "start_time": "2025-04-18T04:01:29.318Z"
   },
   {
    "duration": 10,
    "start_time": "2025-04-18T04:01:29.506Z"
   },
   {
    "duration": 131,
    "start_time": "2025-04-18T04:01:29.518Z"
   },
   {
    "duration": 0,
    "start_time": "2025-04-18T04:01:29.650Z"
   },
   {
    "duration": 2,
    "start_time": "2025-04-18T04:01:44.172Z"
   },
   {
    "duration": 1001,
    "start_time": "2025-04-18T04:01:44.711Z"
   },
   {
    "duration": 14,
    "start_time": "2025-04-18T04:01:46.811Z"
   },
   {
    "duration": 37,
    "start_time": "2025-04-18T04:02:23.375Z"
   },
   {
    "duration": 3,
    "start_time": "2025-04-18T04:02:43.287Z"
   },
   {
    "duration": 3623,
    "start_time": "2025-04-18T04:02:44.006Z"
   },
   {
    "duration": 15,
    "start_time": "2025-04-18T04:02:49.514Z"
   },
   {
    "duration": 1592,
    "start_time": "2025-04-18T04:14:37.212Z"
   },
   {
    "duration": 70,
    "start_time": "2025-04-18T04:14:38.806Z"
   },
   {
    "duration": 5,
    "start_time": "2025-04-18T04:14:38.878Z"
   },
   {
    "duration": 30,
    "start_time": "2025-04-18T04:14:38.884Z"
   },
   {
    "duration": 3,
    "start_time": "2025-04-18T04:14:38.917Z"
   },
   {
    "duration": 331,
    "start_time": "2025-04-18T04:14:38.922Z"
   },
   {
    "duration": 323,
    "start_time": "2025-04-18T04:14:39.255Z"
   },
   {
    "duration": 249,
    "start_time": "2025-04-18T04:14:39.581Z"
   },
   {
    "duration": 235,
    "start_time": "2025-04-18T04:14:39.833Z"
   },
   {
    "duration": 322,
    "start_time": "2025-04-18T04:14:40.070Z"
   },
   {
    "duration": 4,
    "start_time": "2025-04-18T04:14:40.394Z"
   },
   {
    "duration": 131,
    "start_time": "2025-04-18T04:14:40.404Z"
   },
   {
    "duration": 54,
    "start_time": "2025-04-18T04:14:40.537Z"
   },
   {
    "duration": 19,
    "start_time": "2025-04-18T04:14:40.596Z"
   },
   {
    "duration": 3,
    "start_time": "2025-04-18T04:14:40.618Z"
   },
   {
    "duration": 16,
    "start_time": "2025-04-18T04:14:40.623Z"
   },
   {
    "duration": 31,
    "start_time": "2025-04-18T04:14:40.641Z"
   },
   {
    "duration": 17,
    "start_time": "2025-04-18T04:14:40.674Z"
   },
   {
    "duration": 28,
    "start_time": "2025-04-18T04:14:40.693Z"
   },
   {
    "duration": 102,
    "start_time": "2025-04-18T04:14:40.806Z"
   },
   {
    "duration": 101,
    "start_time": "2025-04-18T04:14:40.910Z"
   },
   {
    "duration": 101,
    "start_time": "2025-04-18T04:14:41.013Z"
   },
   {
    "duration": 1797,
    "start_time": "2025-04-18T04:14:41.115Z"
   },
   {
    "duration": 102,
    "start_time": "2025-04-18T04:14:42.914Z"
   },
   {
    "duration": 1568,
    "start_time": "2025-04-18T04:15:53.161Z"
   },
   {
    "duration": 60,
    "start_time": "2025-04-18T04:15:54.731Z"
   },
   {
    "duration": 4,
    "start_time": "2025-04-18T04:15:54.793Z"
   },
   {
    "duration": 29,
    "start_time": "2025-04-18T04:15:54.798Z"
   },
   {
    "duration": 3,
    "start_time": "2025-04-18T04:15:54.829Z"
   },
   {
    "duration": 337,
    "start_time": "2025-04-18T04:15:54.834Z"
   },
   {
    "duration": 320,
    "start_time": "2025-04-18T04:15:55.172Z"
   },
   {
    "duration": 248,
    "start_time": "2025-04-18T04:15:55.494Z"
   },
   {
    "duration": 232,
    "start_time": "2025-04-18T04:15:55.745Z"
   },
   {
    "duration": 327,
    "start_time": "2025-04-18T04:15:55.979Z"
   },
   {
    "duration": 6,
    "start_time": "2025-04-18T04:15:56.309Z"
   },
   {
    "duration": 17,
    "start_time": "2025-04-18T04:15:56.316Z"
   },
   {
    "duration": 30,
    "start_time": "2025-04-18T04:15:56.335Z"
   },
   {
    "duration": 73,
    "start_time": "2025-04-18T04:15:56.368Z"
   },
   {
    "duration": 3,
    "start_time": "2025-04-18T04:15:56.442Z"
   },
   {
    "duration": 134,
    "start_time": "2025-04-18T04:15:56.447Z"
   },
   {
    "duration": 18,
    "start_time": "2025-04-18T04:15:56.582Z"
   },
   {
    "duration": 9,
    "start_time": "2025-04-18T04:15:56.601Z"
   },
   {
    "duration": 14,
    "start_time": "2025-04-18T04:15:56.611Z"
   },
   {
    "duration": 8,
    "start_time": "2025-04-18T04:15:56.627Z"
   },
   {
    "duration": 167,
    "start_time": "2025-04-18T04:15:56.637Z"
   },
   {
    "duration": 2,
    "start_time": "2025-04-18T04:15:56.806Z"
   },
   {
    "duration": 1099,
    "start_time": "2025-04-18T04:15:56.810Z"
   },
   {
    "duration": 109,
    "start_time": "2025-04-18T04:15:57.911Z"
   },
   {
    "duration": 19,
    "start_time": "2025-04-18T04:16:34.282Z"
   },
   {
    "duration": 1542,
    "start_time": "2025-04-18T04:16:48.449Z"
   },
   {
    "duration": 69,
    "start_time": "2025-04-18T04:16:49.993Z"
   },
   {
    "duration": 33,
    "start_time": "2025-04-18T04:16:50.064Z"
   },
   {
    "duration": 55,
    "start_time": "2025-04-18T04:16:50.099Z"
   },
   {
    "duration": 3,
    "start_time": "2025-04-18T04:16:50.157Z"
   },
   {
    "duration": 318,
    "start_time": "2025-04-18T04:16:50.162Z"
   },
   {
    "duration": 297,
    "start_time": "2025-04-18T04:16:50.482Z"
   },
   {
    "duration": 231,
    "start_time": "2025-04-18T04:16:50.781Z"
   },
   {
    "duration": 232,
    "start_time": "2025-04-18T04:16:51.014Z"
   },
   {
    "duration": 325,
    "start_time": "2025-04-18T04:16:51.248Z"
   },
   {
    "duration": 4,
    "start_time": "2025-04-18T04:16:51.575Z"
   },
   {
    "duration": 34,
    "start_time": "2025-04-18T04:16:51.581Z"
   },
   {
    "duration": 23,
    "start_time": "2025-04-18T04:16:51.617Z"
   },
   {
    "duration": 14,
    "start_time": "2025-04-18T04:16:51.642Z"
   },
   {
    "duration": 54,
    "start_time": "2025-04-18T04:16:51.658Z"
   },
   {
    "duration": 3,
    "start_time": "2025-04-18T04:16:51.714Z"
   },
   {
    "duration": 78,
    "start_time": "2025-04-18T04:16:51.719Z"
   },
   {
    "duration": 20,
    "start_time": "2025-04-18T04:16:51.799Z"
   },
   {
    "duration": 3,
    "start_time": "2025-04-18T04:16:51.821Z"
   },
   {
    "duration": 82,
    "start_time": "2025-04-18T04:16:51.826Z"
   },
   {
    "duration": 98,
    "start_time": "2025-04-18T04:16:51.910Z"
   },
   {
    "duration": 102,
    "start_time": "2025-04-18T04:16:52.011Z"
   },
   {
    "duration": 89,
    "start_time": "2025-04-18T04:16:52.116Z"
   },
   {
    "duration": 1499,
    "start_time": "2025-04-18T04:16:52.206Z"
   },
   {
    "duration": 102,
    "start_time": "2025-04-18T04:16:53.707Z"
   },
   {
    "duration": 1600,
    "start_time": "2025-04-18T04:17:45.413Z"
   },
   {
    "duration": 57,
    "start_time": "2025-04-18T04:17:47.015Z"
   },
   {
    "duration": 4,
    "start_time": "2025-04-18T04:17:47.074Z"
   },
   {
    "duration": 36,
    "start_time": "2025-04-18T04:17:47.079Z"
   },
   {
    "duration": 3,
    "start_time": "2025-04-18T04:17:47.117Z"
   },
   {
    "duration": 339,
    "start_time": "2025-04-18T04:17:47.121Z"
   },
   {
    "duration": 331,
    "start_time": "2025-04-18T04:17:47.461Z"
   },
   {
    "duration": 234,
    "start_time": "2025-04-18T04:17:47.794Z"
   },
   {
    "duration": 257,
    "start_time": "2025-04-18T04:17:48.030Z"
   },
   {
    "duration": 327,
    "start_time": "2025-04-18T04:17:48.289Z"
   },
   {
    "duration": 4,
    "start_time": "2025-04-18T04:17:48.618Z"
   },
   {
    "duration": 16,
    "start_time": "2025-04-18T04:17:48.624Z"
   },
   {
    "duration": 25,
    "start_time": "2025-04-18T04:17:48.641Z"
   },
   {
    "duration": 30,
    "start_time": "2025-04-18T04:17:48.669Z"
   },
   {
    "duration": 27,
    "start_time": "2025-04-18T04:17:48.701Z"
   },
   {
    "duration": 17,
    "start_time": "2025-04-18T04:17:48.729Z"
   },
   {
    "duration": 5,
    "start_time": "2025-04-18T04:17:48.748Z"
   },
   {
    "duration": 17,
    "start_time": "2025-04-18T04:17:48.754Z"
   },
   {
    "duration": 5,
    "start_time": "2025-04-18T04:17:48.773Z"
   },
   {
    "duration": 18,
    "start_time": "2025-04-18T04:17:48.780Z"
   },
   {
    "duration": 107,
    "start_time": "2025-04-18T04:17:48.800Z"
   },
   {
    "duration": 94,
    "start_time": "2025-04-18T04:17:48.914Z"
   },
   {
    "duration": 4,
    "start_time": "2025-04-18T04:17:49.010Z"
   },
   {
    "duration": 889,
    "start_time": "2025-04-18T04:17:49.016Z"
   },
   {
    "duration": 104,
    "start_time": "2025-04-18T04:17:49.907Z"
   },
   {
    "duration": 1581,
    "start_time": "2025-04-18T04:18:03.011Z"
   },
   {
    "duration": 59,
    "start_time": "2025-04-18T04:18:04.594Z"
   },
   {
    "duration": 4,
    "start_time": "2025-04-18T04:18:04.655Z"
   },
   {
    "duration": 71,
    "start_time": "2025-04-18T04:18:04.661Z"
   },
   {
    "duration": 3,
    "start_time": "2025-04-18T04:18:04.734Z"
   },
   {
    "duration": 345,
    "start_time": "2025-04-18T04:18:04.739Z"
   },
   {
    "duration": 308,
    "start_time": "2025-04-18T04:18:05.086Z"
   },
   {
    "duration": 262,
    "start_time": "2025-04-18T04:18:05.404Z"
   },
   {
    "duration": 232,
    "start_time": "2025-04-18T04:18:05.667Z"
   },
   {
    "duration": 335,
    "start_time": "2025-04-18T04:18:05.901Z"
   },
   {
    "duration": 4,
    "start_time": "2025-04-18T04:18:06.238Z"
   },
   {
    "duration": 35,
    "start_time": "2025-04-18T04:18:06.244Z"
   },
   {
    "duration": 52,
    "start_time": "2025-04-18T04:18:06.281Z"
   },
   {
    "duration": 20,
    "start_time": "2025-04-18T04:18:06.336Z"
   },
   {
    "duration": 183,
    "start_time": "2025-04-18T04:18:06.358Z"
   },
   {
    "duration": 41,
    "start_time": "2025-04-18T04:18:06.543Z"
   },
   {
    "duration": 241,
    "start_time": "2025-04-18T04:18:06.586Z"
   },
   {
    "duration": 93,
    "start_time": "2025-04-18T04:18:06.829Z"
   },
   {
    "duration": 3,
    "start_time": "2025-04-18T04:18:06.924Z"
   },
   {
    "duration": 15,
    "start_time": "2025-04-18T04:18:06.929Z"
   },
   {
    "duration": 21,
    "start_time": "2025-04-18T04:18:06.946Z"
   },
   {
    "duration": 102,
    "start_time": "2025-04-18T04:18:07.005Z"
   },
   {
    "duration": 3,
    "start_time": "2025-04-18T04:18:07.109Z"
   },
   {
    "duration": 992,
    "start_time": "2025-04-18T04:18:07.114Z"
   },
   {
    "duration": 102,
    "start_time": "2025-04-18T04:18:08.108Z"
   },
   {
    "duration": 1642,
    "start_time": "2025-04-18T04:21:16.974Z"
   },
   {
    "duration": 58,
    "start_time": "2025-04-18T04:21:18.618Z"
   },
   {
    "duration": 5,
    "start_time": "2025-04-18T04:21:18.677Z"
   },
   {
    "duration": 31,
    "start_time": "2025-04-18T04:21:18.683Z"
   },
   {
    "duration": 8,
    "start_time": "2025-04-18T04:21:18.716Z"
   },
   {
    "duration": 325,
    "start_time": "2025-04-18T04:21:18.725Z"
   },
   {
    "duration": 317,
    "start_time": "2025-04-18T04:21:19.052Z"
   },
   {
    "duration": 238,
    "start_time": "2025-04-18T04:21:19.371Z"
   },
   {
    "duration": 240,
    "start_time": "2025-04-18T04:21:19.611Z"
   },
   {
    "duration": 328,
    "start_time": "2025-04-18T04:21:19.853Z"
   },
   {
    "duration": 3,
    "start_time": "2025-04-18T04:21:20.183Z"
   },
   {
    "duration": 42,
    "start_time": "2025-04-18T04:21:20.188Z"
   },
   {
    "duration": 27,
    "start_time": "2025-04-18T04:21:20.232Z"
   },
   {
    "duration": 147,
    "start_time": "2025-04-18T04:21:20.263Z"
   },
   {
    "duration": 0,
    "start_time": "2025-04-18T04:21:20.412Z"
   },
   {
    "duration": 0,
    "start_time": "2025-04-18T04:21:20.414Z"
   },
   {
    "duration": 0,
    "start_time": "2025-04-18T04:21:20.416Z"
   },
   {
    "duration": 0,
    "start_time": "2025-04-18T04:21:20.417Z"
   },
   {
    "duration": 0,
    "start_time": "2025-04-18T04:21:20.419Z"
   },
   {
    "duration": 0,
    "start_time": "2025-04-18T04:21:20.421Z"
   },
   {
    "duration": 0,
    "start_time": "2025-04-18T04:21:20.422Z"
   },
   {
    "duration": 0,
    "start_time": "2025-04-18T04:21:20.424Z"
   },
   {
    "duration": 0,
    "start_time": "2025-04-18T04:21:20.425Z"
   },
   {
    "duration": 0,
    "start_time": "2025-04-18T04:21:20.427Z"
   },
   {
    "duration": 0,
    "start_time": "2025-04-18T04:21:20.429Z"
   },
   {
    "duration": 9,
    "start_time": "2025-04-18T04:21:39.333Z"
   },
   {
    "duration": 33,
    "start_time": "2025-04-18T04:22:08.453Z"
   },
   {
    "duration": 3,
    "start_time": "2025-04-18T04:22:27.541Z"
   },
   {
    "duration": 4,
    "start_time": "2025-04-18T04:22:27.705Z"
   },
   {
    "duration": 18,
    "start_time": "2025-04-18T04:22:27.885Z"
   },
   {
    "duration": 3,
    "start_time": "2025-04-18T04:22:30.156Z"
   },
   {
    "duration": 19,
    "start_time": "2025-04-18T04:22:30.346Z"
   },
   {
    "duration": 16,
    "start_time": "2025-04-18T04:22:30.484Z"
   },
   {
    "duration": 12,
    "start_time": "2025-04-18T04:22:30.665Z"
   },
   {
    "duration": 3,
    "start_time": "2025-04-18T04:22:30.825Z"
   },
   {
    "duration": 2120,
    "start_time": "2025-04-18T04:22:30.985Z"
   },
   {
    "duration": 114,
    "start_time": "2025-04-18T04:22:33.107Z"
   },
   {
    "duration": 12,
    "start_time": "2025-04-18T04:23:25.517Z"
   },
   {
    "duration": 36,
    "start_time": "2025-04-18T04:23:28.765Z"
   },
   {
    "duration": 3,
    "start_time": "2025-04-18T04:23:29.065Z"
   },
   {
    "duration": 4,
    "start_time": "2025-04-18T04:23:29.205Z"
   },
   {
    "duration": 17,
    "start_time": "2025-04-18T04:23:29.366Z"
   },
   {
    "duration": 4,
    "start_time": "2025-04-18T04:23:29.785Z"
   },
   {
    "duration": 17,
    "start_time": "2025-04-18T04:23:29.933Z"
   },
   {
    "duration": 14,
    "start_time": "2025-04-18T04:23:30.085Z"
   },
   {
    "duration": 7,
    "start_time": "2025-04-18T04:23:30.225Z"
   },
   {
    "duration": 3,
    "start_time": "2025-04-18T04:23:30.364Z"
   },
   {
    "duration": 94,
    "start_time": "2025-04-18T04:23:30.512Z"
   },
   {
    "duration": 13,
    "start_time": "2025-04-18T04:23:30.685Z"
   },
   {
    "duration": 1605,
    "start_time": "2025-04-18T04:24:38.497Z"
   },
   {
    "duration": 60,
    "start_time": "2025-04-18T04:24:40.104Z"
   },
   {
    "duration": 5,
    "start_time": "2025-04-18T04:24:40.165Z"
   },
   {
    "duration": 37,
    "start_time": "2025-04-18T04:24:40.171Z"
   },
   {
    "duration": 3,
    "start_time": "2025-04-18T04:24:40.210Z"
   },
   {
    "duration": 330,
    "start_time": "2025-04-18T04:24:40.215Z"
   },
   {
    "duration": 316,
    "start_time": "2025-04-18T04:24:40.547Z"
   },
   {
    "duration": 257,
    "start_time": "2025-04-18T04:24:40.866Z"
   },
   {
    "duration": 227,
    "start_time": "2025-04-18T04:24:41.125Z"
   },
   {
    "duration": 338,
    "start_time": "2025-04-18T04:24:41.354Z"
   },
   {
    "duration": 9,
    "start_time": "2025-04-18T04:24:41.695Z"
   },
   {
    "duration": 29,
    "start_time": "2025-04-18T04:24:41.706Z"
   },
   {
    "duration": 40,
    "start_time": "2025-04-18T04:24:41.737Z"
   },
   {
    "duration": 69,
    "start_time": "2025-04-18T04:24:41.780Z"
   },
   {
    "duration": 35,
    "start_time": "2025-04-18T04:24:41.851Z"
   },
   {
    "duration": 3,
    "start_time": "2025-04-18T04:24:41.888Z"
   },
   {
    "duration": 7,
    "start_time": "2025-04-18T04:24:41.892Z"
   },
   {
    "duration": 18,
    "start_time": "2025-04-18T04:24:41.901Z"
   },
   {
    "duration": 2,
    "start_time": "2025-04-18T04:24:41.921Z"
   },
   {
    "duration": 80,
    "start_time": "2025-04-18T04:24:41.925Z"
   },
   {
    "duration": 101,
    "start_time": "2025-04-18T04:24:42.008Z"
   },
   {
    "duration": 102,
    "start_time": "2025-04-18T04:24:42.112Z"
   },
   {
    "duration": 89,
    "start_time": "2025-04-18T04:24:42.216Z"
   },
   {
    "duration": 2902,
    "start_time": "2025-04-18T04:24:42.307Z"
   },
   {
    "duration": 107,
    "start_time": "2025-04-18T04:24:45.210Z"
   },
   {
    "duration": 1629,
    "start_time": "2025-04-18T04:30:33.106Z"
   },
   {
    "duration": 61,
    "start_time": "2025-04-18T04:30:34.738Z"
   },
   {
    "duration": 5,
    "start_time": "2025-04-18T04:30:34.801Z"
   },
   {
    "duration": 37,
    "start_time": "2025-04-18T04:30:34.809Z"
   },
   {
    "duration": 3,
    "start_time": "2025-04-18T04:30:34.849Z"
   },
   {
    "duration": 364,
    "start_time": "2025-04-18T04:30:34.854Z"
   },
   {
    "duration": 322,
    "start_time": "2025-04-18T04:30:35.220Z"
   },
   {
    "duration": 260,
    "start_time": "2025-04-18T04:30:35.544Z"
   },
   {
    "duration": 242,
    "start_time": "2025-04-18T04:30:35.806Z"
   },
   {
    "duration": 335,
    "start_time": "2025-04-18T04:30:36.050Z"
   },
   {
    "duration": 17,
    "start_time": "2025-04-18T04:30:36.387Z"
   },
   {
    "duration": 57,
    "start_time": "2025-04-18T04:30:36.406Z"
   },
   {
    "duration": 101,
    "start_time": "2025-04-18T04:30:36.465Z"
   },
   {
    "duration": 53,
    "start_time": "2025-04-18T04:30:36.569Z"
   },
   {
    "duration": 8,
    "start_time": "2025-04-18T04:30:36.624Z"
   },
   {
    "duration": 75,
    "start_time": "2025-04-18T04:30:36.634Z"
   },
   {
    "duration": 113,
    "start_time": "2025-04-18T04:30:36.711Z"
   },
   {
    "duration": 178,
    "start_time": "2025-04-18T04:30:36.826Z"
   },
   {
    "duration": 3,
    "start_time": "2025-04-18T04:30:37.006Z"
   },
   {
    "duration": 1404,
    "start_time": "2025-04-18T04:30:37.011Z"
   },
   {
    "duration": 105,
    "start_time": "2025-04-18T04:30:38.503Z"
   },
   {
    "duration": 129,
    "start_time": "2025-04-18T04:32:43.225Z"
   },
   {
    "duration": 3,
    "start_time": "2025-04-18T04:32:50.005Z"
   },
   {
    "duration": 17,
    "start_time": "2025-04-18T04:32:51.397Z"
   },
   {
    "duration": 28,
    "start_time": "2025-04-18T04:32:52.445Z"
   },
   {
    "duration": 1628,
    "start_time": "2025-04-18T04:33:04.938Z"
   },
   {
    "duration": 59,
    "start_time": "2025-04-18T04:33:06.568Z"
   },
   {
    "duration": 4,
    "start_time": "2025-04-18T04:33:06.628Z"
   },
   {
    "duration": 28,
    "start_time": "2025-04-18T04:33:06.634Z"
   },
   {
    "duration": 17,
    "start_time": "2025-04-18T04:33:06.665Z"
   },
   {
    "duration": 343,
    "start_time": "2025-04-18T04:33:06.685Z"
   },
   {
    "duration": 330,
    "start_time": "2025-04-18T04:33:07.030Z"
   },
   {
    "duration": 255,
    "start_time": "2025-04-18T04:33:07.362Z"
   },
   {
    "duration": 248,
    "start_time": "2025-04-18T04:33:07.619Z"
   },
   {
    "duration": 337,
    "start_time": "2025-04-18T04:33:07.869Z"
   },
   {
    "duration": 4,
    "start_time": "2025-04-18T04:33:08.208Z"
   },
   {
    "duration": 55,
    "start_time": "2025-04-18T04:33:08.214Z"
   },
   {
    "duration": 25,
    "start_time": "2025-04-18T04:33:08.271Z"
   },
   {
    "duration": 16,
    "start_time": "2025-04-18T04:33:08.306Z"
   },
   {
    "duration": 3,
    "start_time": "2025-04-18T04:33:08.324Z"
   },
   {
    "duration": 25,
    "start_time": "2025-04-18T04:33:08.328Z"
   },
   {
    "duration": 4,
    "start_time": "2025-04-18T04:33:08.355Z"
   },
   {
    "duration": 52,
    "start_time": "2025-04-18T04:33:08.361Z"
   },
   {
    "duration": 98,
    "start_time": "2025-04-18T04:33:08.511Z"
   },
   {
    "duration": 102,
    "start_time": "2025-04-18T04:33:08.612Z"
   },
   {
    "duration": 90,
    "start_time": "2025-04-18T04:33:08.716Z"
   },
   {
    "duration": 1498,
    "start_time": "2025-04-18T04:33:08.808Z"
   },
   {
    "duration": 102,
    "start_time": "2025-04-18T04:33:10.307Z"
   },
   {
    "duration": 33,
    "start_time": "2025-04-18T04:45:10.299Z"
   },
   {
    "duration": 133,
    "start_time": "2025-04-18T04:45:23.849Z"
   },
   {
    "duration": 6,
    "start_time": "2025-04-18T04:45:30.000Z"
   },
   {
    "duration": 5,
    "start_time": "2025-04-18T04:45:35.008Z"
   },
   {
    "duration": 5,
    "start_time": "2025-04-18T04:47:18.228Z"
   },
   {
    "duration": 3,
    "start_time": "2025-04-18T04:47:34.000Z"
   },
   {
    "duration": 1603,
    "start_time": "2025-04-18T04:59:32.185Z"
   },
   {
    "duration": 61,
    "start_time": "2025-04-18T04:59:33.790Z"
   },
   {
    "duration": 5,
    "start_time": "2025-04-18T04:59:33.853Z"
   },
   {
    "duration": 84,
    "start_time": "2025-04-18T04:59:33.859Z"
   },
   {
    "duration": 9,
    "start_time": "2025-04-18T04:59:33.945Z"
   },
   {
    "duration": 374,
    "start_time": "2025-04-18T04:59:33.956Z"
   },
   {
    "duration": 341,
    "start_time": "2025-04-18T04:59:34.332Z"
   },
   {
    "duration": 265,
    "start_time": "2025-04-18T04:59:34.674Z"
   },
   {
    "duration": 263,
    "start_time": "2025-04-18T04:59:34.941Z"
   },
   {
    "duration": 344,
    "start_time": "2025-04-18T04:59:35.206Z"
   },
   {
    "duration": 5,
    "start_time": "2025-04-18T04:59:35.553Z"
   },
   {
    "duration": 103,
    "start_time": "2025-04-18T04:59:35.560Z"
   },
   {
    "duration": 23,
    "start_time": "2025-04-18T04:59:35.665Z"
   },
   {
    "duration": 27,
    "start_time": "2025-04-18T04:59:35.692Z"
   },
   {
    "duration": 46,
    "start_time": "2025-04-18T04:59:35.721Z"
   },
   {
    "duration": 56,
    "start_time": "2025-04-18T04:59:35.769Z"
   },
   {
    "duration": 32,
    "start_time": "2025-04-18T04:59:35.826Z"
   },
   {
    "duration": 129,
    "start_time": "2025-04-18T04:59:35.860Z"
   },
   {
    "duration": 287,
    "start_time": "2025-04-18T04:59:35.991Z"
   },
   {
    "duration": 0,
    "start_time": "2025-04-18T04:59:36.280Z"
   },
   {
    "duration": 0,
    "start_time": "2025-04-18T04:59:36.281Z"
   },
   {
    "duration": 0,
    "start_time": "2025-04-18T04:59:36.282Z"
   },
   {
    "duration": 0,
    "start_time": "2025-04-18T04:59:36.283Z"
   },
   {
    "duration": 0,
    "start_time": "2025-04-18T04:59:36.284Z"
   },
   {
    "duration": 0,
    "start_time": "2025-04-18T04:59:36.285Z"
   },
   {
    "duration": 0,
    "start_time": "2025-04-18T04:59:36.304Z"
   },
   {
    "duration": 0,
    "start_time": "2025-04-18T04:59:36.306Z"
   },
   {
    "duration": 935,
    "start_time": "2025-04-18T04:59:43.387Z"
   },
   {
    "duration": 5,
    "start_time": "2025-04-18T04:59:49.987Z"
   },
   {
    "duration": 5,
    "start_time": "2025-04-18T05:00:52.079Z"
   },
   {
    "duration": 5,
    "start_time": "2025-04-18T05:01:36.395Z"
   },
   {
    "duration": 4,
    "start_time": "2025-04-18T05:02:08.267Z"
   },
   {
    "duration": 16,
    "start_time": "2025-04-18T05:02:08.484Z"
   },
   {
    "duration": 9,
    "start_time": "2025-04-18T05:02:08.636Z"
   },
   {
    "duration": 6,
    "start_time": "2025-04-18T05:02:09.828Z"
   },
   {
    "duration": 3,
    "start_time": "2025-04-18T05:02:10.168Z"
   },
   {
    "duration": 3,
    "start_time": "2025-04-18T05:02:28.547Z"
   },
   {
    "duration": 3,
    "start_time": "2025-04-18T05:02:28.749Z"
   },
   {
    "duration": 11,
    "start_time": "2025-04-18T05:02:29.051Z"
   },
   {
    "duration": 1116,
    "start_time": "2025-04-18T05:02:29.208Z"
   },
   {
    "duration": 5,
    "start_time": "2025-04-18T05:02:30.508Z"
   },
   {
    "duration": 5,
    "start_time": "2025-04-18T05:09:12.166Z"
   },
   {
    "duration": 3,
    "start_time": "2025-04-18T05:12:44.574Z"
   },
   {
    "duration": 1611,
    "start_time": "2025-04-18T05:14:09.282Z"
   },
   {
    "duration": 67,
    "start_time": "2025-04-18T05:14:10.895Z"
   },
   {
    "duration": 4,
    "start_time": "2025-04-18T05:14:10.964Z"
   },
   {
    "duration": 51,
    "start_time": "2025-04-18T05:14:10.970Z"
   },
   {
    "duration": 3,
    "start_time": "2025-04-18T05:14:11.023Z"
   },
   {
    "duration": 339,
    "start_time": "2025-04-18T05:14:11.028Z"
   },
   {
    "duration": 328,
    "start_time": "2025-04-18T05:14:11.368Z"
   },
   {
    "duration": 247,
    "start_time": "2025-04-18T05:14:11.698Z"
   },
   {
    "duration": 242,
    "start_time": "2025-04-18T05:14:11.947Z"
   },
   {
    "duration": 320,
    "start_time": "2025-04-18T05:14:12.191Z"
   },
   {
    "duration": 4,
    "start_time": "2025-04-18T05:14:12.513Z"
   },
   {
    "duration": 27,
    "start_time": "2025-04-18T05:14:12.519Z"
   },
   {
    "duration": 21,
    "start_time": "2025-04-18T05:14:12.547Z"
   },
   {
    "duration": 42,
    "start_time": "2025-04-18T05:14:12.571Z"
   },
   {
    "duration": 18,
    "start_time": "2025-04-18T05:14:12.614Z"
   },
   {
    "duration": 121,
    "start_time": "2025-04-18T05:14:12.633Z"
   },
   {
    "duration": 56,
    "start_time": "2025-04-18T05:14:12.756Z"
   },
   {
    "duration": 4,
    "start_time": "2025-04-18T05:14:12.814Z"
   },
   {
    "duration": 85,
    "start_time": "2025-04-18T05:14:12.820Z"
   },
   {
    "duration": 1098,
    "start_time": "2025-04-18T05:14:12.907Z"
   },
   {
    "duration": 2198,
    "start_time": "2025-04-18T05:14:14.007Z"
   },
   {
    "duration": 3,
    "start_time": "2025-04-18T05:14:16.207Z"
   },
   {
    "duration": 135,
    "start_time": "2025-04-18T05:14:16.211Z"
   },
   {
    "duration": 0,
    "start_time": "2025-04-18T05:14:16.347Z"
   },
   {
    "duration": 1,
    "start_time": "2025-04-18T05:14:16.348Z"
   },
   {
    "duration": 0,
    "start_time": "2025-04-18T05:14:16.350Z"
   },
   {
    "duration": 0,
    "start_time": "2025-04-18T05:14:16.350Z"
   },
   {
    "duration": 0,
    "start_time": "2025-04-18T05:14:16.351Z"
   },
   {
    "duration": 0,
    "start_time": "2025-04-18T05:14:16.353Z"
   },
   {
    "duration": 0,
    "start_time": "2025-04-18T05:14:16.354Z"
   },
   {
    "duration": 3,
    "start_time": "2025-04-18T05:14:43.370Z"
   },
   {
    "duration": 24633,
    "start_time": "2025-04-18T05:14:43.902Z"
   },
   {
    "duration": 1451,
    "start_time": "2025-04-18T05:15:34.961Z"
   },
   {
    "duration": 3,
    "start_time": "2025-04-18T05:15:37.681Z"
   },
   {
    "duration": 3,
    "start_time": "2025-04-18T05:15:39.661Z"
   },
   {
    "duration": 144525,
    "start_time": "2025-04-18T05:15:40.602Z"
   },
   {
    "duration": 1548,
    "start_time": "2025-04-18T05:18:43.522Z"
   },
   {
    "duration": 60,
    "start_time": "2025-04-18T05:18:45.072Z"
   },
   {
    "duration": 6,
    "start_time": "2025-04-18T05:18:45.134Z"
   },
   {
    "duration": 121,
    "start_time": "2025-04-18T05:18:45.142Z"
   },
   {
    "duration": 33,
    "start_time": "2025-04-18T05:18:45.267Z"
   },
   {
    "duration": 352,
    "start_time": "2025-04-18T05:18:45.301Z"
   },
   {
    "duration": 315,
    "start_time": "2025-04-18T05:18:45.654Z"
   },
   {
    "duration": 236,
    "start_time": "2025-04-18T05:18:45.970Z"
   },
   {
    "duration": 232,
    "start_time": "2025-04-18T05:18:46.208Z"
   },
   {
    "duration": 339,
    "start_time": "2025-04-18T05:18:46.442Z"
   },
   {
    "duration": 5,
    "start_time": "2025-04-18T05:18:46.783Z"
   },
   {
    "duration": 53,
    "start_time": "2025-04-18T05:18:46.789Z"
   },
   {
    "duration": 21,
    "start_time": "2025-04-18T05:18:46.843Z"
   },
   {
    "duration": 17,
    "start_time": "2025-04-18T05:18:46.867Z"
   },
   {
    "duration": 31,
    "start_time": "2025-04-18T05:18:46.886Z"
   },
   {
    "duration": 4,
    "start_time": "2025-04-18T05:18:46.918Z"
   },
   {
    "duration": 18,
    "start_time": "2025-04-18T05:18:46.923Z"
   },
   {
    "duration": 19,
    "start_time": "2025-04-18T05:18:46.943Z"
   },
   {
    "duration": 43,
    "start_time": "2025-04-18T05:18:46.963Z"
   },
   {
    "duration": 1004,
    "start_time": "2025-04-18T05:18:47.008Z"
   },
   {
    "duration": 1701,
    "start_time": "2025-04-18T05:18:48.014Z"
   },
   {
    "duration": 89,
    "start_time": "2025-04-18T05:18:49.716Z"
   },
   {
    "duration": 25,
    "start_time": "2025-04-18T05:18:49.807Z"
   },
   {
    "duration": 13,
    "start_time": "2025-04-18T05:18:49.834Z"
   },
   {
    "duration": 298955,
    "start_time": "2025-04-18T05:18:49.849Z"
   },
   {
    "duration": 3,
    "start_time": "2025-04-18T05:23:48.806Z"
   },
   {
    "duration": 24,
    "start_time": "2025-04-18T05:23:48.811Z"
   },
   {
    "duration": 67,
    "start_time": "2025-04-18T05:23:48.836Z"
   },
   {
    "duration": 98,
    "start_time": "2025-04-18T05:23:48.912Z"
   },
   {
    "duration": 99,
    "start_time": "2025-04-18T05:23:49.012Z"
   },
   {
    "duration": 95,
    "start_time": "2025-04-18T05:23:49.113Z"
   },
   {
    "duration": 1402,
    "start_time": "2025-04-18T05:23:49.210Z"
   },
   {
    "duration": 106,
    "start_time": "2025-04-18T05:23:50.614Z"
   },
   {
    "duration": 4,
    "start_time": "2025-04-18T05:25:02.121Z"
   },
   {
    "duration": 713,
    "start_time": "2025-04-18T05:25:50.810Z"
   },
   {
    "duration": 4,
    "start_time": "2025-04-18T05:30:11.772Z"
   },
   {
    "duration": 285,
    "start_time": "2025-04-18T05:30:27.252Z"
   },
   {
    "duration": 3,
    "start_time": "2025-04-18T05:30:38.076Z"
   },
   {
    "duration": 79,
    "start_time": "2025-04-18T05:30:38.332Z"
   },
   {
    "duration": 3,
    "start_time": "2025-04-18T05:30:46.116Z"
   },
   {
    "duration": 8,
    "start_time": "2025-04-18T05:30:46.829Z"
   },
   {
    "duration": 3,
    "start_time": "2025-04-18T05:31:03.840Z"
   },
   {
    "duration": 9,
    "start_time": "2025-04-18T05:31:04.040Z"
   },
   {
    "duration": 4,
    "start_time": "2025-04-18T05:31:18.241Z"
   },
   {
    "duration": 12,
    "start_time": "2025-04-18T05:31:18.780Z"
   },
   {
    "duration": 825,
    "start_time": "2025-04-18T05:31:19.480Z"
   },
   {
    "duration": 3,
    "start_time": "2025-04-18T05:31:24.120Z"
   },
   {
    "duration": 8,
    "start_time": "2025-04-18T05:31:24.280Z"
   },
   {
    "duration": 4,
    "start_time": "2025-04-18T05:32:00.279Z"
   },
   {
    "duration": 8,
    "start_time": "2025-04-18T05:32:00.560Z"
   },
   {
    "duration": 13,
    "start_time": "2025-04-18T05:32:11.760Z"
   },
   {
    "duration": 4,
    "start_time": "2025-04-18T05:33:16.509Z"
   },
   {
    "duration": 13,
    "start_time": "2025-04-18T05:33:17.060Z"
   },
   {
    "duration": 15,
    "start_time": "2025-04-18T05:33:22.640Z"
   },
   {
    "duration": 5,
    "start_time": "2025-04-18T05:33:35.040Z"
   },
   {
    "duration": 111,
    "start_time": "2025-04-18T05:33:35.500Z"
   },
   {
    "duration": 6,
    "start_time": "2025-04-18T05:34:22.540Z"
   },
   {
    "duration": 14,
    "start_time": "2025-04-18T05:34:34.408Z"
   },
   {
    "duration": 13,
    "start_time": "2025-04-18T05:34:37.472Z"
   },
   {
    "duration": 4,
    "start_time": "2025-04-18T05:34:47.040Z"
   },
   {
    "duration": 5,
    "start_time": "2025-04-18T05:35:47.800Z"
   },
   {
    "duration": 5,
    "start_time": "2025-04-18T05:36:46.041Z"
   },
   {
    "duration": 154,
    "start_time": "2025-04-18T05:36:47.679Z"
   },
   {
    "duration": 4,
    "start_time": "2025-04-18T05:39:16.100Z"
   },
   {
    "duration": 205,
    "start_time": "2025-04-18T05:39:16.599Z"
   },
   {
    "duration": 3,
    "start_time": "2025-04-18T05:39:59.052Z"
   },
   {
    "duration": 204,
    "start_time": "2025-04-18T05:40:01.100Z"
   },
   {
    "duration": 4,
    "start_time": "2025-04-18T05:40:34.009Z"
   },
   {
    "duration": 166,
    "start_time": "2025-04-18T05:40:34.840Z"
   },
   {
    "duration": 5,
    "start_time": "2025-04-18T05:41:02.760Z"
   },
   {
    "duration": 46,
    "start_time": "2025-04-18T05:41:03.460Z"
   },
   {
    "duration": 4,
    "start_time": "2025-04-18T05:41:33.548Z"
   },
   {
    "duration": 53,
    "start_time": "2025-04-18T05:41:34.852Z"
   },
   {
    "duration": 3,
    "start_time": "2025-04-18T05:44:01.321Z"
   },
   {
    "duration": 480,
    "start_time": "2025-04-18T05:44:01.893Z"
   },
   {
    "duration": 4,
    "start_time": "2025-04-18T05:44:30.572Z"
   },
   {
    "duration": 4,
    "start_time": "2025-04-18T05:44:46.288Z"
   },
   {
    "duration": 408,
    "start_time": "2025-04-18T05:44:46.741Z"
   },
   {
    "duration": 6,
    "start_time": "2025-04-18T05:47:14.041Z"
   },
   {
    "duration": 4,
    "start_time": "2025-04-18T05:49:13.761Z"
   },
   {
    "duration": 394,
    "start_time": "2025-04-18T05:49:13.969Z"
   },
   {
    "duration": 4,
    "start_time": "2025-04-18T05:49:21.053Z"
   },
   {
    "duration": 441,
    "start_time": "2025-04-18T05:49:22.121Z"
   },
   {
    "duration": 512,
    "start_time": "2025-04-18T05:49:49.149Z"
   },
   {
    "duration": 4,
    "start_time": "2025-04-18T05:50:13.430Z"
   },
   {
    "duration": 449,
    "start_time": "2025-04-18T05:50:13.621Z"
   },
   {
    "duration": 377,
    "start_time": "2025-04-18T05:50:14.072Z"
   },
   {
    "duration": 4,
    "start_time": "2025-04-18T05:51:28.822Z"
   },
   {
    "duration": 1075,
    "start_time": "2025-04-18T05:51:29.001Z"
   },
   {
    "duration": 4,
    "start_time": "2025-04-18T05:51:46.821Z"
   },
   {
    "duration": 1052,
    "start_time": "2025-04-18T05:51:47.349Z"
   },
   {
    "duration": 7,
    "start_time": "2025-04-18T05:52:14.761Z"
   },
   {
    "duration": 1160,
    "start_time": "2025-04-18T05:52:16.001Z"
   },
   {
    "duration": 4,
    "start_time": "2025-04-18T05:53:09.190Z"
   },
   {
    "duration": 467,
    "start_time": "2025-04-18T05:53:09.881Z"
   },
   {
    "duration": 4,
    "start_time": "2025-04-18T05:53:27.861Z"
   },
   {
    "duration": 472,
    "start_time": "2025-04-18T05:53:28.101Z"
   },
   {
    "duration": 4,
    "start_time": "2025-04-18T05:53:34.582Z"
   },
   {
    "duration": 459,
    "start_time": "2025-04-18T05:53:34.822Z"
   },
   {
    "duration": 340,
    "start_time": "2025-04-18T05:53:38.341Z"
   },
   {
    "duration": 4,
    "start_time": "2025-04-18T05:56:56.690Z"
   },
   {
    "duration": 482,
    "start_time": "2025-04-18T05:56:57.310Z"
   },
   {
    "duration": 4,
    "start_time": "2025-04-18T05:57:16.630Z"
   },
   {
    "duration": 461,
    "start_time": "2025-04-18T05:57:17.182Z"
   },
   {
    "duration": 392,
    "start_time": "2025-04-18T05:57:25.317Z"
   },
   {
    "duration": 3,
    "start_time": "2025-04-18T05:58:21.423Z"
   },
   {
    "duration": 5,
    "start_time": "2025-04-18T05:58:25.982Z"
   },
   {
    "duration": 3,
    "start_time": "2025-04-18T05:58:47.342Z"
   },
   {
    "duration": 9,
    "start_time": "2025-04-18T05:58:54.361Z"
   },
   {
    "duration": 16,
    "start_time": "2025-04-18T05:59:24.382Z"
   },
   {
    "duration": 5,
    "start_time": "2025-04-18T05:59:32.602Z"
   },
   {
    "duration": 6,
    "start_time": "2025-04-18T05:59:33.801Z"
   },
   {
    "duration": 66,
    "start_time": "2025-04-18T05:59:46.470Z"
   },
   {
    "duration": 13,
    "start_time": "2025-04-18T05:59:49.850Z"
   },
   {
    "duration": 3,
    "start_time": "2025-04-18T05:59:54.962Z"
   },
   {
    "duration": 13,
    "start_time": "2025-04-18T05:59:55.890Z"
   },
   {
    "duration": 5,
    "start_time": "2025-04-18T06:00:21.429Z"
   },
   {
    "duration": 10,
    "start_time": "2025-04-18T06:00:21.782Z"
   },
   {
    "duration": 4,
    "start_time": "2025-04-18T06:00:59.730Z"
   },
   {
    "duration": 145,
    "start_time": "2025-04-18T06:01:00.062Z"
   },
   {
    "duration": 13,
    "start_time": "2025-04-18T06:02:53.883Z"
   },
   {
    "duration": 1595,
    "start_time": "2025-04-18T06:03:32.069Z"
   },
   {
    "duration": 59,
    "start_time": "2025-04-18T06:03:33.666Z"
   },
   {
    "duration": 4,
    "start_time": "2025-04-18T06:03:33.727Z"
   },
   {
    "duration": 40,
    "start_time": "2025-04-18T06:03:33.732Z"
   },
   {
    "duration": 69,
    "start_time": "2025-04-18T06:03:33.774Z"
   },
   {
    "duration": 335,
    "start_time": "2025-04-18T06:03:33.844Z"
   },
   {
    "duration": 323,
    "start_time": "2025-04-18T06:03:34.181Z"
   },
   {
    "duration": 234,
    "start_time": "2025-04-18T06:03:34.505Z"
   },
   {
    "duration": 233,
    "start_time": "2025-04-18T06:03:34.741Z"
   },
   {
    "duration": 330,
    "start_time": "2025-04-18T06:03:34.976Z"
   },
   {
    "duration": 4,
    "start_time": "2025-04-18T06:03:35.308Z"
   },
   {
    "duration": 51,
    "start_time": "2025-04-18T06:03:35.313Z"
   },
   {
    "duration": 21,
    "start_time": "2025-04-18T06:03:35.365Z"
   },
   {
    "duration": 20,
    "start_time": "2025-04-18T06:03:35.390Z"
   },
   {
    "duration": 24,
    "start_time": "2025-04-18T06:03:35.412Z"
   },
   {
    "duration": 27,
    "start_time": "2025-04-18T06:03:35.438Z"
   },
   {
    "duration": 27,
    "start_time": "2025-04-18T06:03:35.470Z"
   },
   {
    "duration": 29,
    "start_time": "2025-04-18T06:03:35.498Z"
   },
   {
    "duration": 30,
    "start_time": "2025-04-18T06:03:35.529Z"
   },
   {
    "duration": 908,
    "start_time": "2025-04-18T06:03:35.605Z"
   },
   {
    "duration": 95,
    "start_time": "2025-04-18T06:03:36.515Z"
   },
   {
    "duration": 92,
    "start_time": "2025-04-18T06:03:36.614Z"
   },
   {
    "duration": 313,
    "start_time": "2025-04-18T06:03:36.708Z"
   },
   {
    "duration": 0,
    "start_time": "2025-04-18T06:03:37.023Z"
   },
   {
    "duration": 4,
    "start_time": "2025-04-18T06:04:29.257Z"
   },
   {
    "duration": 11,
    "start_time": "2025-04-18T06:04:31.742Z"
   },
   {
    "duration": 7,
    "start_time": "2025-04-18T06:04:40.920Z"
   },
   {
    "duration": 414,
    "start_time": "2025-04-18T06:04:41.170Z"
   },
   {
    "duration": 12,
    "start_time": "2025-04-18T06:04:49.829Z"
   },
   {
    "duration": 1557,
    "start_time": "2025-04-18T06:11:40.601Z"
   },
   {
    "duration": 56,
    "start_time": "2025-04-18T06:11:42.160Z"
   },
   {
    "duration": 5,
    "start_time": "2025-04-18T06:11:42.217Z"
   },
   {
    "duration": 189,
    "start_time": "2025-04-18T06:11:42.224Z"
   },
   {
    "duration": 3,
    "start_time": "2025-04-18T06:11:42.415Z"
   },
   {
    "duration": 339,
    "start_time": "2025-04-18T06:11:42.419Z"
   },
   {
    "duration": 302,
    "start_time": "2025-04-18T06:11:42.759Z"
   },
   {
    "duration": 232,
    "start_time": "2025-04-18T06:11:43.063Z"
   },
   {
    "duration": 239,
    "start_time": "2025-04-18T06:11:43.297Z"
   },
   {
    "duration": 329,
    "start_time": "2025-04-18T06:11:43.539Z"
   },
   {
    "duration": 5,
    "start_time": "2025-04-18T06:11:43.869Z"
   },
   {
    "duration": 53,
    "start_time": "2025-04-18T06:11:43.875Z"
   },
   {
    "duration": 22,
    "start_time": "2025-04-18T06:11:43.929Z"
   },
   {
    "duration": 16,
    "start_time": "2025-04-18T06:11:43.953Z"
   },
   {
    "duration": 42,
    "start_time": "2025-04-18T06:11:43.971Z"
   },
   {
    "duration": 4,
    "start_time": "2025-04-18T06:11:44.015Z"
   },
   {
    "duration": 88,
    "start_time": "2025-04-18T06:11:44.020Z"
   },
   {
    "duration": 1094,
    "start_time": "2025-04-18T06:11:44.110Z"
   },
   {
    "duration": 2703,
    "start_time": "2025-04-18T06:11:45.207Z"
   },
   {
    "duration": 3,
    "start_time": "2025-04-18T06:11:47.911Z"
   },
   {
    "duration": 11,
    "start_time": "2025-04-18T06:11:47.915Z"
   },
   {
    "duration": 356287,
    "start_time": "2025-04-18T06:11:47.927Z"
   },
   {
    "duration": 4,
    "start_time": "2025-04-18T06:17:44.215Z"
   },
   {
    "duration": 4,
    "start_time": "2025-04-18T06:17:44.221Z"
   },
   {
    "duration": 14,
    "start_time": "2025-04-18T06:17:44.226Z"
   },
   {
    "duration": 8,
    "start_time": "2025-04-18T06:17:44.241Z"
   },
   {
    "duration": 426,
    "start_time": "2025-04-18T06:17:44.251Z"
   },
   {
    "duration": 12,
    "start_time": "2025-04-18T06:17:44.680Z"
   },
   {
    "duration": 347,
    "start_time": "2025-04-18T06:17:44.693Z"
   },
   {
    "duration": 136,
    "start_time": "2025-04-18T06:17:45.042Z"
   },
   {
    "duration": 13,
    "start_time": "2025-04-18T06:24:55.405Z"
   },
   {
    "duration": 90,
    "start_time": "2025-04-18T06:25:17.721Z"
   },
   {
    "duration": 3,
    "start_time": "2025-04-18T06:25:27.825Z"
   },
   {
    "duration": 12137,
    "start_time": "2025-04-18T06:25:28.573Z"
   },
   {
    "duration": 10,
    "start_time": "2025-04-18T06:25:45.665Z"
   },
   {
    "duration": 5,
    "start_time": "2025-04-18T06:42:22.795Z"
   },
   {
    "duration": 474,
    "start_time": "2025-04-18T06:42:23.700Z"
   },
   {
    "duration": 451,
    "start_time": "2025-04-18T06:42:29.344Z"
   },
   {
    "duration": 1561,
    "start_time": "2025-04-18T06:42:52.930Z"
   },
   {
    "duration": 59,
    "start_time": "2025-04-18T06:42:54.493Z"
   },
   {
    "duration": 5,
    "start_time": "2025-04-18T06:42:54.554Z"
   },
   {
    "duration": 47,
    "start_time": "2025-04-18T06:42:54.561Z"
   },
   {
    "duration": 4,
    "start_time": "2025-04-18T06:42:54.611Z"
   },
   {
    "duration": 345,
    "start_time": "2025-04-18T06:42:54.617Z"
   },
   {
    "duration": 329,
    "start_time": "2025-04-18T06:42:54.965Z"
   },
   {
    "duration": 251,
    "start_time": "2025-04-18T06:42:55.296Z"
   },
   {
    "duration": 344,
    "start_time": "2025-04-18T06:42:55.549Z"
   },
   {
    "duration": 9,
    "start_time": "2025-04-18T06:42:55.896Z"
   },
   {
    "duration": 87,
    "start_time": "2025-04-18T06:42:55.907Z"
   },
   {
    "duration": 22,
    "start_time": "2025-04-18T06:42:55.996Z"
   },
   {
    "duration": 18,
    "start_time": "2025-04-18T06:42:56.020Z"
   },
   {
    "duration": 19,
    "start_time": "2025-04-18T06:42:56.043Z"
   },
   {
    "duration": 11,
    "start_time": "2025-04-18T06:42:56.064Z"
   },
   {
    "duration": 44,
    "start_time": "2025-04-18T06:42:56.077Z"
   },
   {
    "duration": 1403,
    "start_time": "2025-04-18T06:42:56.204Z"
   },
   {
    "duration": 1700,
    "start_time": "2025-04-18T06:42:57.609Z"
   },
   {
    "duration": 3,
    "start_time": "2025-04-18T06:42:59.311Z"
   },
   {
    "duration": 4,
    "start_time": "2025-04-18T06:42:59.316Z"
   },
   {
    "duration": 133959,
    "start_time": "2025-04-18T06:42:59.322Z"
   },
   {
    "duration": 0,
    "start_time": "2025-04-18T06:45:13.283Z"
   },
   {
    "duration": 0,
    "start_time": "2025-04-18T06:45:13.285Z"
   },
   {
    "duration": 0,
    "start_time": "2025-04-18T06:45:13.286Z"
   },
   {
    "duration": 1,
    "start_time": "2025-04-18T06:45:13.287Z"
   },
   {
    "duration": 0,
    "start_time": "2025-04-18T06:45:13.288Z"
   },
   {
    "duration": 0,
    "start_time": "2025-04-18T06:45:13.305Z"
   },
   {
    "duration": 0,
    "start_time": "2025-04-18T06:45:13.306Z"
   },
   {
    "duration": 0,
    "start_time": "2025-04-18T06:45:13.307Z"
   },
   {
    "duration": 0,
    "start_time": "2025-04-18T06:45:13.309Z"
   },
   {
    "duration": 0,
    "start_time": "2025-04-18T06:45:13.310Z"
   },
   {
    "duration": 14,
    "start_time": "2025-04-18T06:46:49.235Z"
   },
   {
    "duration": 955,
    "start_time": "2025-04-18T06:46:50.553Z"
   },
   {
    "duration": 1693,
    "start_time": "2025-04-18T06:47:05.168Z"
   },
   {
    "duration": 56,
    "start_time": "2025-04-18T06:47:06.863Z"
   },
   {
    "duration": 5,
    "start_time": "2025-04-18T06:47:06.921Z"
   },
   {
    "duration": 89,
    "start_time": "2025-04-18T06:47:06.927Z"
   },
   {
    "duration": 3,
    "start_time": "2025-04-18T06:47:07.019Z"
   },
   {
    "duration": 310,
    "start_time": "2025-04-18T06:47:07.023Z"
   },
   {
    "duration": 325,
    "start_time": "2025-04-18T06:47:07.335Z"
   },
   {
    "duration": 235,
    "start_time": "2025-04-18T06:47:07.662Z"
   },
   {
    "duration": 303,
    "start_time": "2025-04-18T06:47:07.899Z"
   },
   {
    "duration": 9,
    "start_time": "2025-04-18T06:47:08.205Z"
   },
   {
    "duration": 52,
    "start_time": "2025-04-18T06:47:08.216Z"
   },
   {
    "duration": 26,
    "start_time": "2025-04-18T06:47:08.270Z"
   },
   {
    "duration": 19,
    "start_time": "2025-04-18T06:47:08.298Z"
   },
   {
    "duration": 18,
    "start_time": "2025-04-18T06:47:08.320Z"
   },
   {
    "duration": 3,
    "start_time": "2025-04-18T06:47:08.340Z"
   },
   {
    "duration": 63,
    "start_time": "2025-04-18T06:47:08.344Z"
   },
   {
    "duration": 699,
    "start_time": "2025-04-18T06:47:08.409Z"
   },
   {
    "duration": 1405,
    "start_time": "2025-04-18T06:47:09.110Z"
   },
   {
    "duration": 4,
    "start_time": "2025-04-18T06:47:10.516Z"
   },
   {
    "duration": 82,
    "start_time": "2025-04-18T06:47:10.522Z"
   },
   {
    "duration": 38936,
    "start_time": "2025-04-18T06:47:10.606Z"
   },
   {
    "duration": 11,
    "start_time": "2025-04-18T06:47:49.544Z"
   },
   {
    "duration": 0,
    "start_time": "2025-04-18T06:47:49.556Z"
   },
   {
    "duration": 0,
    "start_time": "2025-04-18T06:47:49.557Z"
   },
   {
    "duration": 0,
    "start_time": "2025-04-18T06:47:49.559Z"
   },
   {
    "duration": 0,
    "start_time": "2025-04-18T06:47:49.560Z"
   },
   {
    "duration": 0,
    "start_time": "2025-04-18T06:47:49.561Z"
   },
   {
    "duration": 0,
    "start_time": "2025-04-18T06:47:49.562Z"
   },
   {
    "duration": 0,
    "start_time": "2025-04-18T06:47:49.563Z"
   },
   {
    "duration": 0,
    "start_time": "2025-04-18T06:47:49.564Z"
   },
   {
    "duration": 0,
    "start_time": "2025-04-18T06:47:49.565Z"
   },
   {
    "duration": 1583,
    "start_time": "2025-04-18T06:48:09.474Z"
   },
   {
    "duration": 55,
    "start_time": "2025-04-18T06:48:11.060Z"
   },
   {
    "duration": 21,
    "start_time": "2025-04-18T06:48:11.117Z"
   },
   {
    "duration": 64,
    "start_time": "2025-04-18T06:48:11.140Z"
   },
   {
    "duration": 3,
    "start_time": "2025-04-18T06:48:11.206Z"
   },
   {
    "duration": 333,
    "start_time": "2025-04-18T06:48:11.211Z"
   },
   {
    "duration": 329,
    "start_time": "2025-04-18T06:48:11.545Z"
   },
   {
    "duration": 246,
    "start_time": "2025-04-18T06:48:11.876Z"
   },
   {
    "duration": 334,
    "start_time": "2025-04-18T06:48:12.123Z"
   },
   {
    "duration": 4,
    "start_time": "2025-04-18T06:48:12.459Z"
   },
   {
    "duration": 39,
    "start_time": "2025-04-18T06:48:12.465Z"
   },
   {
    "duration": 21,
    "start_time": "2025-04-18T06:48:12.506Z"
   },
   {
    "duration": 79,
    "start_time": "2025-04-18T06:48:12.529Z"
   },
   {
    "duration": 17,
    "start_time": "2025-04-18T06:48:12.611Z"
   },
   {
    "duration": 3,
    "start_time": "2025-04-18T06:48:12.630Z"
   },
   {
    "duration": 77,
    "start_time": "2025-04-18T06:48:12.634Z"
   },
   {
    "duration": 1003,
    "start_time": "2025-04-18T06:48:12.803Z"
   },
   {
    "duration": 1499,
    "start_time": "2025-04-18T06:48:13.810Z"
   },
   {
    "duration": 3,
    "start_time": "2025-04-18T06:48:15.310Z"
   },
   {
    "duration": 34,
    "start_time": "2025-04-18T06:48:15.314Z"
   },
   {
    "duration": 50580,
    "start_time": "2025-04-18T06:48:15.350Z"
   },
   {
    "duration": 11,
    "start_time": "2025-04-18T06:49:05.932Z"
   },
   {
    "duration": 0,
    "start_time": "2025-04-18T06:49:05.945Z"
   },
   {
    "duration": 0,
    "start_time": "2025-04-18T06:49:05.947Z"
   },
   {
    "duration": 0,
    "start_time": "2025-04-18T06:49:05.948Z"
   },
   {
    "duration": 0,
    "start_time": "2025-04-18T06:49:05.950Z"
   },
   {
    "duration": 0,
    "start_time": "2025-04-18T06:49:05.951Z"
   },
   {
    "duration": 0,
    "start_time": "2025-04-18T06:49:05.952Z"
   },
   {
    "duration": 0,
    "start_time": "2025-04-18T06:49:05.953Z"
   },
   {
    "duration": 0,
    "start_time": "2025-04-18T06:49:05.954Z"
   },
   {
    "duration": 0,
    "start_time": "2025-04-18T06:49:05.955Z"
   },
   {
    "duration": 1600,
    "start_time": "2025-04-18T06:49:29.171Z"
   },
   {
    "duration": 58,
    "start_time": "2025-04-18T06:49:30.773Z"
   },
   {
    "duration": 15,
    "start_time": "2025-04-18T06:49:30.833Z"
   },
   {
    "duration": 36,
    "start_time": "2025-04-18T06:49:30.850Z"
   },
   {
    "duration": 5,
    "start_time": "2025-04-18T06:49:30.888Z"
   },
   {
    "duration": 336,
    "start_time": "2025-04-18T06:49:30.895Z"
   },
   {
    "duration": 324,
    "start_time": "2025-04-18T06:49:31.233Z"
   },
   {
    "duration": 257,
    "start_time": "2025-04-18T06:49:31.559Z"
   },
   {
    "duration": 335,
    "start_time": "2025-04-18T06:49:31.818Z"
   },
   {
    "duration": 4,
    "start_time": "2025-04-18T06:49:32.155Z"
   },
   {
    "duration": 60,
    "start_time": "2025-04-18T06:49:32.161Z"
   },
   {
    "duration": 21,
    "start_time": "2025-04-18T06:49:32.223Z"
   },
   {
    "duration": 17,
    "start_time": "2025-04-18T06:49:32.246Z"
   },
   {
    "duration": 39,
    "start_time": "2025-04-18T06:49:32.266Z"
   },
   {
    "duration": 3,
    "start_time": "2025-04-18T06:49:32.307Z"
   },
   {
    "duration": 92,
    "start_time": "2025-04-18T06:49:32.312Z"
   },
   {
    "duration": 1101,
    "start_time": "2025-04-18T06:49:32.407Z"
   },
   {
    "duration": 1595,
    "start_time": "2025-04-18T06:49:33.510Z"
   },
   {
    "duration": 3,
    "start_time": "2025-04-18T06:49:35.107Z"
   },
   {
    "duration": 68,
    "start_time": "2025-04-18T06:49:35.112Z"
   },
   {
    "duration": 277542,
    "start_time": "2025-04-18T06:49:35.181Z"
   },
   {
    "duration": 6,
    "start_time": "2025-04-18T06:54:12.725Z"
   },
   {
    "duration": 10,
    "start_time": "2025-04-18T06:54:12.734Z"
   },
   {
    "duration": 105,
    "start_time": "2025-04-18T06:54:12.746Z"
   },
   {
    "duration": 16,
    "start_time": "2025-04-18T06:54:12.853Z"
   },
   {
    "duration": 534,
    "start_time": "2025-04-18T06:54:12.871Z"
   },
   {
    "duration": 431,
    "start_time": "2025-04-18T06:54:13.407Z"
   },
   {
    "duration": 103,
    "start_time": "2025-04-18T06:54:13.840Z"
   },
   {
    "duration": 66,
    "start_time": "2025-04-18T06:54:13.944Z"
   },
   {
    "duration": 12614,
    "start_time": "2025-04-18T06:54:14.011Z"
   },
   {
    "duration": 9,
    "start_time": "2025-04-18T06:54:26.627Z"
   },
   {
    "duration": 1924,
    "start_time": "2025-04-18T07:37:27.906Z"
   },
   {
    "duration": 53,
    "start_time": "2025-04-18T07:37:29.832Z"
   },
   {
    "duration": 4,
    "start_time": "2025-04-18T07:37:29.887Z"
   },
   {
    "duration": 46,
    "start_time": "2025-04-18T07:37:29.893Z"
   },
   {
    "duration": 3,
    "start_time": "2025-04-18T07:37:29.941Z"
   },
   {
    "duration": 345,
    "start_time": "2025-04-18T07:37:29.946Z"
   },
   {
    "duration": 320,
    "start_time": "2025-04-18T07:37:30.293Z"
   },
   {
    "duration": 249,
    "start_time": "2025-04-18T07:37:30.615Z"
   },
   {
    "duration": 343,
    "start_time": "2025-04-18T07:37:30.866Z"
   },
   {
    "duration": 693,
    "start_time": "2025-04-18T07:37:31.211Z"
   },
   {
    "duration": 131,
    "start_time": "2025-04-18T07:37:31.906Z"
   },
   {
    "duration": 0,
    "start_time": "2025-04-18T07:37:32.040Z"
   },
   {
    "duration": 0,
    "start_time": "2025-04-18T07:37:32.041Z"
   },
   {
    "duration": 0,
    "start_time": "2025-04-18T07:37:32.042Z"
   },
   {
    "duration": 0,
    "start_time": "2025-04-18T07:37:32.044Z"
   },
   {
    "duration": 0,
    "start_time": "2025-04-18T07:37:32.045Z"
   },
   {
    "duration": 0,
    "start_time": "2025-04-18T07:37:32.046Z"
   },
   {
    "duration": 0,
    "start_time": "2025-04-18T07:37:32.047Z"
   },
   {
    "duration": 0,
    "start_time": "2025-04-18T07:37:32.048Z"
   },
   {
    "duration": 0,
    "start_time": "2025-04-18T07:37:32.049Z"
   },
   {
    "duration": 0,
    "start_time": "2025-04-18T07:37:32.050Z"
   },
   {
    "duration": 0,
    "start_time": "2025-04-18T07:37:32.052Z"
   },
   {
    "duration": 0,
    "start_time": "2025-04-18T07:37:32.053Z"
   },
   {
    "duration": 0,
    "start_time": "2025-04-18T07:37:32.054Z"
   },
   {
    "duration": 0,
    "start_time": "2025-04-18T07:37:32.055Z"
   },
   {
    "duration": 0,
    "start_time": "2025-04-18T07:37:32.056Z"
   },
   {
    "duration": 0,
    "start_time": "2025-04-18T07:37:32.057Z"
   },
   {
    "duration": 0,
    "start_time": "2025-04-18T07:37:32.059Z"
   },
   {
    "duration": 0,
    "start_time": "2025-04-18T07:37:32.060Z"
   },
   {
    "duration": 0,
    "start_time": "2025-04-18T07:37:32.061Z"
   },
   {
    "duration": 0,
    "start_time": "2025-04-18T07:37:32.062Z"
   },
   {
    "duration": 0,
    "start_time": "2025-04-18T07:37:32.063Z"
   },
   {
    "duration": 0,
    "start_time": "2025-04-18T07:37:32.064Z"
   },
   {
    "duration": 735,
    "start_time": "2025-04-18T07:38:54.854Z"
   },
   {
    "duration": 859,
    "start_time": "2025-04-18T07:39:35.702Z"
   },
   {
    "duration": 803,
    "start_time": "2025-04-18T07:39:41.594Z"
   },
   {
    "duration": 994,
    "start_time": "2025-04-18T07:39:50.249Z"
   },
   {
    "duration": 131,
    "start_time": "2025-04-18T07:46:11.071Z"
   },
   {
    "duration": 225,
    "start_time": "2025-04-18T07:47:19.892Z"
   },
   {
    "duration": 165,
    "start_time": "2025-04-18T07:47:33.365Z"
   },
   {
    "duration": 174,
    "start_time": "2025-04-18T07:49:51.792Z"
   },
   {
    "duration": 171,
    "start_time": "2025-04-18T07:51:14.666Z"
   },
   {
    "duration": 1655,
    "start_time": "2025-04-18T07:56:19.726Z"
   },
   {
    "duration": 69,
    "start_time": "2025-04-18T07:56:21.383Z"
   },
   {
    "duration": 4,
    "start_time": "2025-04-18T07:56:21.453Z"
   },
   {
    "duration": 87,
    "start_time": "2025-04-18T07:56:21.459Z"
   },
   {
    "duration": 13,
    "start_time": "2025-04-18T07:56:21.547Z"
   },
   {
    "duration": 336,
    "start_time": "2025-04-18T07:56:21.562Z"
   },
   {
    "duration": 333,
    "start_time": "2025-04-18T07:56:21.904Z"
   },
   {
    "duration": 249,
    "start_time": "2025-04-18T07:56:22.239Z"
   },
   {
    "duration": 356,
    "start_time": "2025-04-18T07:56:22.490Z"
   },
   {
    "duration": 940,
    "start_time": "2025-04-18T07:56:22.849Z"
   },
   {
    "duration": 176,
    "start_time": "2025-04-18T07:56:23.790Z"
   },
   {
    "duration": 5,
    "start_time": "2025-04-18T07:56:23.968Z"
   },
   {
    "duration": 61,
    "start_time": "2025-04-18T07:56:23.974Z"
   },
   {
    "duration": 127,
    "start_time": "2025-04-18T07:56:24.037Z"
   },
   {
    "duration": 0,
    "start_time": "2025-04-18T07:56:24.166Z"
   },
   {
    "duration": 0,
    "start_time": "2025-04-18T07:56:24.168Z"
   },
   {
    "duration": 0,
    "start_time": "2025-04-18T07:56:24.169Z"
   },
   {
    "duration": 0,
    "start_time": "2025-04-18T07:56:24.171Z"
   },
   {
    "duration": 0,
    "start_time": "2025-04-18T07:56:24.172Z"
   },
   {
    "duration": 0,
    "start_time": "2025-04-18T07:56:24.174Z"
   },
   {
    "duration": 0,
    "start_time": "2025-04-18T07:56:24.175Z"
   },
   {
    "duration": 0,
    "start_time": "2025-04-18T07:56:24.176Z"
   },
   {
    "duration": 0,
    "start_time": "2025-04-18T07:56:24.178Z"
   },
   {
    "duration": 0,
    "start_time": "2025-04-18T07:56:24.180Z"
   },
   {
    "duration": 0,
    "start_time": "2025-04-18T07:56:24.181Z"
   },
   {
    "duration": 0,
    "start_time": "2025-04-18T07:56:24.204Z"
   },
   {
    "duration": 0,
    "start_time": "2025-04-18T07:56:24.206Z"
   },
   {
    "duration": 0,
    "start_time": "2025-04-18T07:56:24.207Z"
   },
   {
    "duration": 0,
    "start_time": "2025-04-18T07:56:24.209Z"
   },
   {
    "duration": 0,
    "start_time": "2025-04-18T07:56:24.210Z"
   },
   {
    "duration": 0,
    "start_time": "2025-04-18T07:56:24.211Z"
   },
   {
    "duration": 0,
    "start_time": "2025-04-18T07:56:24.212Z"
   },
   {
    "duration": 0,
    "start_time": "2025-04-18T07:56:24.212Z"
   },
   {
    "duration": 5,
    "start_time": "2025-04-18T07:57:28.830Z"
   },
   {
    "duration": 26,
    "start_time": "2025-04-18T07:57:31.203Z"
   },
   {
    "duration": 25,
    "start_time": "2025-04-18T07:57:33.193Z"
   },
   {
    "duration": 17,
    "start_time": "2025-04-18T07:57:52.643Z"
   },
   {
    "duration": 18,
    "start_time": "2025-04-18T07:58:04.208Z"
   },
   {
    "duration": 33,
    "start_time": "2025-04-18T07:58:04.228Z"
   },
   {
    "duration": 41,
    "start_time": "2025-04-18T07:58:04.263Z"
   },
   {
    "duration": 699,
    "start_time": "2025-04-18T07:58:04.308Z"
   },
   {
    "duration": 1692,
    "start_time": "2025-04-18T07:58:05.014Z"
   },
   {
    "duration": 3,
    "start_time": "2025-04-18T07:58:06.708Z"
   },
   {
    "duration": 15,
    "start_time": "2025-04-18T07:58:06.713Z"
   },
   {
    "duration": 26277,
    "start_time": "2025-04-18T07:58:06.730Z"
   },
   {
    "duration": 10,
    "start_time": "2025-04-18T07:58:33.009Z"
   },
   {
    "duration": 0,
    "start_time": "2025-04-18T07:58:33.021Z"
   },
   {
    "duration": 0,
    "start_time": "2025-04-18T07:58:33.022Z"
   },
   {
    "duration": 0,
    "start_time": "2025-04-18T07:58:33.024Z"
   },
   {
    "duration": 0,
    "start_time": "2025-04-18T07:58:33.025Z"
   },
   {
    "duration": 0,
    "start_time": "2025-04-18T07:58:33.027Z"
   },
   {
    "duration": 1,
    "start_time": "2025-04-18T07:58:33.027Z"
   },
   {
    "duration": 0,
    "start_time": "2025-04-18T07:58:33.029Z"
   },
   {
    "duration": 0,
    "start_time": "2025-04-18T07:58:33.030Z"
   },
   {
    "duration": 0,
    "start_time": "2025-04-18T07:58:33.032Z"
   },
   {
    "duration": 1499,
    "start_time": "2025-04-18T07:58:38.254Z"
   },
   {
    "duration": 57,
    "start_time": "2025-04-18T07:58:39.756Z"
   },
   {
    "duration": 5,
    "start_time": "2025-04-18T07:58:39.815Z"
   },
   {
    "duration": 38,
    "start_time": "2025-04-18T07:58:39.823Z"
   },
   {
    "duration": 4,
    "start_time": "2025-04-18T07:58:39.862Z"
   },
   {
    "duration": 345,
    "start_time": "2025-04-18T07:58:39.867Z"
   },
   {
    "duration": 328,
    "start_time": "2025-04-18T07:58:40.214Z"
   },
   {
    "duration": 277,
    "start_time": "2025-04-18T07:58:40.544Z"
   },
   {
    "duration": 368,
    "start_time": "2025-04-18T07:58:40.823Z"
   },
   {
    "duration": 898,
    "start_time": "2025-04-18T07:58:41.195Z"
   },
   {
    "duration": 183,
    "start_time": "2025-04-18T07:58:42.094Z"
   },
   {
    "duration": 5,
    "start_time": "2025-04-18T07:58:42.279Z"
   },
   {
    "duration": 44,
    "start_time": "2025-04-18T07:58:42.286Z"
   },
   {
    "duration": 21,
    "start_time": "2025-04-18T07:58:42.332Z"
   },
   {
    "duration": 17,
    "start_time": "2025-04-18T07:58:42.355Z"
   },
   {
    "duration": 40,
    "start_time": "2025-04-18T07:58:42.374Z"
   },
   {
    "duration": 4,
    "start_time": "2025-04-18T07:58:42.416Z"
   },
   {
    "duration": 85,
    "start_time": "2025-04-18T07:58:42.422Z"
   },
   {
    "duration": 999,
    "start_time": "2025-04-18T07:58:42.509Z"
   },
   {
    "duration": 1699,
    "start_time": "2025-04-18T07:58:43.511Z"
   },
   {
    "duration": 4,
    "start_time": "2025-04-18T07:58:45.212Z"
   },
   {
    "duration": 85,
    "start_time": "2025-04-18T07:58:45.217Z"
   },
   {
    "duration": 277926,
    "start_time": "2025-04-18T07:58:45.304Z"
   },
   {
    "duration": 73,
    "start_time": "2025-04-18T08:03:23.232Z"
   },
   {
    "duration": 38,
    "start_time": "2025-04-18T08:03:23.307Z"
   },
   {
    "duration": 43,
    "start_time": "2025-04-18T08:03:23.347Z"
   },
   {
    "duration": 7,
    "start_time": "2025-04-18T08:03:23.392Z"
   },
   {
    "duration": 575,
    "start_time": "2025-04-18T08:03:23.403Z"
   },
   {
    "duration": 385,
    "start_time": "2025-04-18T08:03:23.980Z"
   },
   {
    "duration": 100,
    "start_time": "2025-04-18T08:03:24.366Z"
   },
   {
    "duration": 4,
    "start_time": "2025-04-18T08:03:24.467Z"
   },
   {
    "duration": 12342,
    "start_time": "2025-04-18T08:03:24.473Z"
   },
   {
    "duration": 8,
    "start_time": "2025-04-18T08:03:36.817Z"
   }
  ],
  "kernelspec": {
   "display_name": "Python 3 (ipykernel)",
   "language": "python",
   "name": "python3"
  },
  "language_info": {
   "codemirror_mode": {
    "name": "ipython",
    "version": 3
   },
   "file_extension": ".py",
   "mimetype": "text/x-python",
   "name": "python",
   "nbconvert_exporter": "python",
   "pygments_lexer": "ipython3",
   "version": "3.9.5"
  },
  "toc": {
   "base_numbering": 1,
   "nav_menu": {},
   "number_sections": true,
   "sideBar": true,
   "skip_h1_title": true,
   "title_cell": "Содержание",
   "title_sidebar": "Contents",
   "toc_cell": true,
   "toc_position": {},
   "toc_section_display": true,
   "toc_window_display": true
  }
 },
 "nbformat": 4,
 "nbformat_minor": 2
}
